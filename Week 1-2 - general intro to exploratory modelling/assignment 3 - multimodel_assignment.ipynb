{
 "cells": [
  {
   "cell_type": "markdown",
   "metadata": {},
   "source": [
    "# EPA1361 - Model-Based Decision Making\n",
    "\n",
    "## Multi-model analysis\n",
    "\n",
    "This exercise uses a simple version of the [Lotka-Volterra predator-prey equations](https://en.wikipedia.org/wiki/Lotka%E2%80%93Volterra_equations) to show how the EMA Workbench can be used for a\n",
    "multi-model analysis, in addition to typical parametric/structural uncertainties. This will let you test the connectors provided in the Workbench for Excel, NetLogo, and Vensim / PySD; we'll also use the models for the sensitivity analysis exercise in week 3.\n",
    "\n",
    "* Using the three model files provided and the Python function below, define model objects for each implementation (Excel, NetLogo, Vensim/PySD, and Python), and test them using a single ensemble. Use 50 experiments sampled from the parameters below (so that each experiment will be executed for the 4 models, for a total of 200), and retrieve outputs for the _TIME_, _predators_, and _prey_ variables.\n",
    "    * excel and vensim are only supported on windows\n",
    "    * vensim requires 32 bit python, and a 7.1!! version of vensim DSS\n",
    "    * Netlogo supoprt depends on [jpype](http://jpype.readthedocs.io/en/latest/install.html) and [pynetlogo](https://pynetlogo.readthedocs.io/en/latest/). Also, if you don't have NetLogo installed, please get it from [NetLogo 6.0](https://ccl.northwestern.edu/netlogo/download.shtml) \n",
    "    * for pysd, see [its documentation](http://pysd.readthedocs.io/en/master/installation.html)\n",
    "    * If possible try to work with all model versions, but even 2 or 3 (pure python and something else should be sufficient).\n",
    "    \n",
    "\n",
    "|Parameter\t|Range or value\t        |\n",
    "|-----------|--------------:|\n",
    "|prey_birth_rate    \t|0.015 – 0.035\t|\n",
    "|predation_rate|0.0005 – 0.003 \t|\n",
    "|predator_efficiency     \t|0.001 – 0.004\t    |\n",
    "|predator_loss_rate\t    |0.04 – 0.08\t    |\n",
    "|Final time\t    |365\t    |\n",
    "|dt\t    |0.25\t    |\n",
    "\n",
    "* Note that your EMA Workbench installation includes example scripts for the different connectors. The different model objects follow a similar syntax but will need to be slightly adjusted depending on the software (e.g. to specify the NetLogo run length or the sheet name in Excel). \n",
    "\n",
    "* These model objects can be used with a replication functionality (for instance to test the effect of stochastic uncertainty in a NetLogo model), which repeats a given experiment over multiple replications. You can use a single replication in this exercise as the models are not stochastic. By default, each outcome array will then have a shape of (# experiments, # replications, # time steps). Try adapting the outcome arrays so that they can be used with the _lines_ plotting function of the Workbench, and plot the results grouped by model.\n",
    "\n",
    "* To check the graphical results, find the maximum absolute error of the time series you obtained for the _prey_ variable in the Excel, NetLogo, and Vensim/PySD models, relative to the Python function. "
   ]
  },
  {
   "cell_type": "code",
   "execution_count": 2,
   "metadata": {},
   "outputs": [
    {
     "output_type": "stream",
     "name": "stdout",
     "text": "Collecting pysd\n  Downloading https://files.pythonhosted.org/packages/61/86/32e04a7390c2eb870d560f300941ae2cae08aff13b616b138b603f29fbb1/pysd-0.10.0-py2.py3-none-any.whl (45kB)\nRequirement already satisfied: xlrd in c:\\users\\pratheepkumaar\\anaconda3\\lib\\site-packages (from pysd) (1.2.0)\nRequirement already satisfied: numpy in c:\\users\\pratheepkumaar\\anaconda3\\lib\\site-packages (from pysd) (1.16.5)\nRequirement already satisfied: pandas in c:\\users\\pratheepkumaar\\anaconda3\\lib\\site-packages (from pysd) (0.25.1)\nRequirement already satisfied: lxml in c:\\users\\pratheepkumaar\\anaconda3\\lib\\site-packages (from pysd) (4.4.1)\nCollecting xarray (from pysd)\n  Downloading https://files.pythonhosted.org/packages/ee/11/fb2a8a6015e3de4ff19a4870bb0d11f48ebdd997062557d24cd076b3088f/xarray-0.15.1-py3-none-any.whl (668kB)\nCollecting yapf (from pysd)\n  Downloading https://files.pythonhosted.org/packages/c1/5d/d84677fe852bc5e091739acda444a9b6700ffc6b11a21b00dd244c8caef0/yapf-0.30.0-py2.py3-none-any.whl (190kB)\nCollecting parsimonious (from pysd)\n  Downloading https://files.pythonhosted.org/packages/02/fc/067a3f89869a41009e1a7cdfb14725f8ddd246f30f63c645e8ef8a1c56f4/parsimonious-0.8.1.tar.gz (45kB)\nCollecting pydoe (from pysd)\n  Downloading https://files.pythonhosted.org/packages/bc/ac/91fe4c039e2744466621343d3b8af4a485193ed0aab53af5b1db03be0989/pyDOE-0.3.8.zip\nCollecting funcsigs (from pysd)\n  Downloading https://files.pythonhosted.org/packages/69/cb/f5be453359271714c01b9bd06126eaf2e368f1fddfff30818754b5ac2328/funcsigs-1.0.2-py2.py3-none-any.whl\nRequirement already satisfied: chardet in c:\\users\\pratheepkumaar\\anaconda3\\lib\\site-packages (from pysd) (3.0.4)\nCollecting regex (from pysd)\n  Downloading https://files.pythonhosted.org/packages/f2/8f/7f230dddc7e411cb7256e89853327c31b5c08896a871e69df82239672958/regex-2020.4.4-cp37-cp37m-win_amd64.whl (271kB)\nRequirement already satisfied: xlwt in c:\\users\\pratheepkumaar\\anaconda3\\lib\\site-packages (from pysd) (1.3.0)\nRequirement already satisfied: pytz>=2017.2 in c:\\users\\pratheepkumaar\\anaconda3\\lib\\site-packages (from pandas->pysd) (2019.3)\nRequirement already satisfied: python-dateutil>=2.6.1 in c:\\users\\pratheepkumaar\\anaconda3\\lib\\site-packages (from pandas->pysd) (2.8.0)\nRequirement already satisfied: setuptools>=41.2 in c:\\users\\pratheepkumaar\\anaconda3\\lib\\site-packages (from xarray->pysd) (41.4.0)\nRequirement already satisfied: six>=1.9.0 in c:\\users\\pratheepkumaar\\anaconda3\\lib\\site-packages (from parsimonious->pysd) (1.12.0)\nRequirement already satisfied: scipy in c:\\users\\pratheepkumaar\\anaconda3\\lib\\site-packages (from pydoe->pysd) (1.3.1)\nBuilding wheels for collected packages: parsimonious, pydoe\n  Building wheel for parsimonious (setup.py): started\n  Building wheel for parsimonious (setup.py): finished with status 'done'\n  Created wheel for parsimonious: filename=parsimonious-0.8.1-cp37-none-any.whl size=42715 sha256=c0df6c712f796a1fffcb2738b8f3ddb13328fa6049613eecefd93caa4db14551\n  Stored in directory: C:\\Users\\pratheepkumaar\\AppData\\Local\\pip\\Cache\\wheels\\b7\\8d\\e7\\a0e74217da5caeb3c1c7689639b6d28ddbf9985b840bc96a9a\n  Building wheel for pydoe (setup.py): started\n  Building wheel for pydoe (setup.py): finished with status 'done'\n  Created wheel for pydoe: filename=pyDOE-0.3.8-cp37-none-any.whl size=18183 sha256=aa5855937c9ac058368c5c336abf837b6d61ea142d0bffd11f3f517832f3423b\n  Stored in directory: C:\\Users\\pratheepkumaar\\AppData\\Local\\pip\\Cache\\wheels\\7c\\c8\\58\\a6493bd415e8ba5735082b5e0c096d7c1f2933077a8ce34544\nSuccessfully built parsimonious pydoe\nInstalling collected packages: xarray, yapf, parsimonious, pydoe, funcsigs, regex, pysd\nSuccessfully installed funcsigs-1.0.2 parsimonious-0.8.1 pydoe-0.3.8 pysd-0.10.0 regex-2020.4.4 xarray-0.15.1 yapf-0.30.0\n"
    }
   ],
   "source": [
    "import sys\n",
    "!{sys.executable} -m pip install pysd"
   ]
  },
  {
   "cell_type": "code",
   "execution_count": 2,
   "metadata": {
    "collapsed": false,
    "jupyter": {
     "outputs_hidden": false
    }
   },
   "outputs": [
    {
     "output_type": "stream",
     "name": "stderr",
     "text": "C:\\Users\\pratheepkumaar\\Anaconda3\\lib\\site-packages\\ema_workbench\\connectors\\__init__.py:17: ImportWarning: vensim connector not available\n  warnings.warn(\"vensim connector not available\", ImportWarning)\nC:\\Users\\pratheepkumaar\\Anaconda3\\lib\\site-packages\\ema_workbench\\analysis\\prim.py:31: ImportWarning: altair based interactive inspection not available\n  \"inspection not available\"), ImportWarning)\n"
    }
   ],
   "source": [
    "import numpy as np\n",
    "import matplotlib.pyplot as plt\n",
    "\n",
    "from ema_workbench import (Model, RealParameter, TimeSeriesOutcome, perform_experiments,\n",
    "                           ema_logging)\n",
    "\n",
    "from ema_workbench.connectors.netlogo import NetLogoModel\n",
    "from ema_workbench.connectors.excel import ExcelModel\n",
    "from ema_workbench.connectors.pysd_connector import PysdModel\n",
    "\n",
    "from ema_workbench.em_framework.evaluators import LHS, SOBOL, MORRIS\n",
    "\n",
    "from ema_workbench.analysis.plotting import lines, Density\n",
    "\n",
    "\n",
    "# .. codeauthor::  jhkwakkel\n",
    "\n",
    "\n",
    "def PredPrey(prey_birth_rate=0.025, predation_rate=0.0015, predator_efficiency=0.002,\n",
    "             predator_loss_rate=0.06, initial_prey=50, initial_predators=20, dt=0.25, final_time=365, reps=1):\n",
    "\n",
    "    #Initial values\n",
    "    predators, prey, sim_time = [np.zeros((reps, int(final_time/dt)+1)) for _ in range(3)]\n",
    "    \n",
    "    for r in range(reps):\n",
    "        predators[r,0] = initial_predators\n",
    "        prey[r,0] = initial_prey\n",
    "\n",
    "        #Calculate the time series\n",
    "        for t in range(0, sim_time.shape[1]-1):\n",
    "\n",
    "            dx = (prey_birth_rate*prey[r,t]) - (predation_rate*prey[r,t]*predators[r,t])\n",
    "            dy = (predator_efficiency*predators[r,t]*prey[r,t]) - (predator_loss_rate*predators[r,t])\n",
    "\n",
    "            prey[r,t+1] = max(prey[r,t] + dx*dt, 0)\n",
    "            predators[r,t+1] = max(predators[r,t] + dy*dt, 0)\n",
    "            sim_time[r,t+1] = (t+1)*dt\n",
    "    \n",
    "    #Return outcomes\n",
    "    return {'TIME':sim_time,\n",
    "            'predators':predators,\n",
    "            'prey':prey}"
   ]
  },
  {
   "cell_type": "code",
   "execution_count": 12,
   "metadata": {},
   "outputs": [
    {
     "output_type": "stream",
     "name": "stderr",
     "text": "[MainProcess/INFO] pool started\n[MainProcess/INFO] performing 50 scenarios * 1 policies * 1 model(s) = 50 experiments\n[MainProcess/INFO] 5 cases completed\n[MainProcess/INFO] 10 cases completed\n[MainProcess/INFO] 15 cases completed\n[MainProcess/INFO] 20 cases completed\n[MainProcess/INFO] 25 cases completed\n[MainProcess/INFO] 30 cases completed\n[MainProcess/INFO] 35 cases completed\n[MainProcess/INFO] 40 cases completed\n[MainProcess/INFO] 45 cases completed\n[MainProcess/INFO] 50 cases completed\n[MainProcess/INFO] experiments finished\n[MainProcess/INFO] terminating pool\n"
    }
   ],
   "source": [
    "from __future__ import (division, unicode_literals, absolute_import,\n",
    "                        print_function)\n",
    "\n",
    "from ema_workbench import (TimeSeriesOutcome, perform_experiments,\n",
    "                           RealParameter, ema_logging)\n",
    "\n",
    "from ema_workbench import (MultiprocessingEvaluator, ema_logging,\n",
    "                           perform_experiments)\n",
    "\n",
    "from ema_workbench.connectors.pysd_connector import PysdModel\n",
    "\n",
    "\n",
    "# .. codeauthor::  jhkwakkel\n",
    "\n",
    "if __name__ == \"__main__\":\n",
    "    ema_logging.log_to_stderr(ema_logging.INFO)\n",
    "    wd = r\"./model/PredPrey.mdl\"\n",
    "    pysd_model = PysdModel(\"pysd\",mdl_file=r\"./model/PredPrey.mdl\")\n",
    "\n",
    "    uncertainty = [RealParameter('prey_birth_rate', 0.015, 0.035),\n",
    "                RealParameter('predation_rate', 0.0005, 0.003),\n",
    "                RealParameter('predator_efficiency', 0.001, 0.004),\n",
    "                RealParameter('predator_loss_rate', 0.04, 0.08)]\n",
    "\n",
    "    outcome = [TimeSeriesOutcome('TIME'),\n",
    "            TimeSeriesOutcome('predators'),\n",
    "            TimeSeriesOutcome('prey')]\n",
    "\n",
    "    pysd_model.uncertainties = uncertainty\n",
    "    pysd_model.outcome = outcome\n",
    "\n",
    "    with MultiprocessingEvaluator(pysd_model) as evaluator:\n",
    "        results = evaluator.perform_experiments(50)\n",
    "\n",
    "    \n",
    "\n",
    "   \n"
   ]
  },
  {
   "cell_type": "code",
   "execution_count": 1,
   "metadata": {},
   "outputs": [
    {
     "output_type": "stream",
     "name": "stderr",
     "text": "C:\\Users\\pratheepkumaar\\Anaconda3\\lib\\site-packages\\ema_workbench\\connectors\\__init__.py:17: ImportWarning: vensim connector not available\n  warnings.warn(\"vensim connector not available\", ImportWarning)\n[MainProcess/INFO] pool started\n[MainProcess/INFO] performing 50 scenarios * 1 policies * 1 model(s) = 50 experiments\n"
    }
   ],
   "source": [
    "from __future__ import unicode_literals, absolute_import\n",
    "\n",
    "from ema_workbench.connectors.netlogo import NetLogoModel\n",
    "\n",
    "from ema_workbench import (RealParameter, ema_logging,\n",
    "                           TimeSeriesOutcome, MultiprocessingEvaluator)\n",
    "\n",
    "from ema_workbench import SequentialEvaluator\n",
    "\n",
    "# Created on 20 mrt. 2013\n",
    "#\n",
    "# .. codeauthor::  jhkwakkel\n",
    "\n",
    "\n",
    "if __name__ == '__main__':\n",
    "    # turn on logging\n",
    "    ema_logging.log_to_stderr(ema_logging.INFO)\n",
    "\n",
    "    model = NetLogoModel(\"netlogo\",wd=r\"./model/\",model_file=\"PredPrey.nlogo\")\n",
    "    model.run_length = 1\n",
    "    model.replications = 1\n",
    "\n",
    "    model.uncertainties = [RealParameter('prey_birth_rate', 0.015, 0.035),\n",
    "                RealParameter('predation_rate', 0.0005, 0.003),\n",
    "                RealParameter('predator_efficiency', 0.001, 0.004),\n",
    "                RealParameter('predator_loss_rate', 0.04, 0.08)]\n",
    "\n",
    "    model.outcomes =  [TimeSeriesOutcome('TIME'),\n",
    "            TimeSeriesOutcome('predators'),\n",
    "            TimeSeriesOutcome('prey')]\n",
    "\n",
    "    # perform experiments\n",
    "    n = 50\n",
    "\n",
    "    with MultiprocessingEvaluator(model) as evaluator:\n",
    "        results = evaluator.perform_experiments(n)"
   ]
  },
  {
   "cell_type": "code",
   "execution_count": 4,
   "metadata": {},
   "outputs": [
    {
     "output_type": "stream",
     "name": "stderr",
     "text": "[MainProcess/INFO] performing 50 scenarios * 1 policies * 1 model(s) = 50 experiments\n[MainProcess/INFO] performing experiments sequentially\n[MainProcess/INFO] 5 cases completed\n[MainProcess/INFO] 10 cases completed\n[MainProcess/INFO] 15 cases completed\n[MainProcess/INFO] 20 cases completed\n[MainProcess/INFO] 25 cases completed\n[MainProcess/INFO] 30 cases completed\n[MainProcess/INFO] 35 cases completed\n[MainProcess/INFO] 40 cases completed\n[MainProcess/INFO] 45 cases completed\n[MainProcess/INFO] 50 cases completed\n[MainProcess/INFO] experiments finished\n"
    }
   ],
   "source": [
    "from __future__ import (division, unicode_literals, absolute_import,\n",
    "                        print_function)\n",
    "\n",
    "from ema_workbench import (TimeSeriesOutcome, perform_experiments,\n",
    "                           RealParameter, ema_logging)\n",
    "\n",
    "\n",
    "from ema_workbench.connectors.excel import ExcelModel\n",
    "\n",
    "from ema_workbench import SequentialEvaluator\n",
    "\n",
    "\n",
    "# .. codeauthor::  jhkwakkel\n",
    "\n",
    "if __name__ == \"__main__\":\n",
    "    ema_logging.log_to_stderr(ema_logging.INFO)\n",
    "    wd = r\"./model/PredPrey.mdl\"\n",
    "    excel_model = ExcelModel('excel', wd='./model/', model_file='PredPrey.xlsx')\n",
    "\n",
    "\n",
    "    uncertainty = [RealParameter('prey_birth_rate', 0.015, 0.035),\n",
    "                RealParameter('predation_rate', 0.0005, 0.003),\n",
    "                RealParameter('predator_efficiency', 0.001, 0.004),\n",
    "                RealParameter('predator_loss_rate', 0.04, 0.08)]\n",
    "\n",
    "    outcome = [TimeSeriesOutcome('TIME'),\n",
    "            TimeSeriesOutcome('predators'),\n",
    "            TimeSeriesOutcome('prey')]\n",
    "\n",
    "    excel_model.default_sheet = \"Sheet1\"\n",
    "\n",
    "    excel_model.uncertainties = uncertainty\n",
    "    excel_model.outcome = outcome\n",
    "\n",
    "    with SequentialEvaluator(excel_model) as evaluator:\n",
    "        results = evaluator.perform_experiments(50)"
   ]
  },
  {
   "cell_type": "code",
   "execution_count": 6,
   "metadata": {},
   "outputs": [
    {
     "output_type": "stream",
     "name": "stderr",
     "text": "[MainProcess/INFO] performing 50 scenarios * 1 policies * 1 model(s) = 50 experiments\n[MainProcess/INFO] performing experiments sequentially\n[MainProcess/INFO] 5 cases completed\n[MainProcess/INFO] 10 cases completed\n[MainProcess/INFO] 15 cases completed\n[MainProcess/INFO] 20 cases completed\n[MainProcess/INFO] 25 cases completed\n[MainProcess/INFO] 30 cases completed\n[MainProcess/INFO] 35 cases completed\n[MainProcess/INFO] 40 cases completed\n[MainProcess/INFO] 45 cases completed\n[MainProcess/INFO] 50 cases completed\n[MainProcess/INFO] experiments finished\n"
    }
   ],
   "source": [
    "from __future__ import (division, unicode_literals, absolute_import,\n",
    "                        print_function)\n",
    "\n",
    "from ema_workbench import (TimeSeriesOutcome, perform_experiments,\n",
    "                           RealParameter, ema_logging)\n",
    "\n",
    "from PredPrey import PredPrey\n",
    "\n",
    "from ema_workbench import SequentialEvaluator,Model\n",
    "\n",
    "\n",
    "# .. codeauthor::  jhkwakkel\n",
    "\n",
    "if __name__ == \"__main__\":\n",
    "    ema_logging.log_to_stderr(ema_logging.INFO)\n",
    "  \n",
    "    python_model = Model('python', function=PredPrey)\n",
    "\n",
    "\n",
    "    uncertainty = [RealParameter('prey_birth_rate', 0.015, 0.035),\n",
    "                RealParameter('predation_rate', 0.0005, 0.003),\n",
    "                RealParameter('predator_efficiency', 0.001, 0.004),\n",
    "                RealParameter('predator_loss_rate', 0.04, 0.08)]\n",
    "\n",
    "    outcome = [TimeSeriesOutcome('TIME'),\n",
    "            TimeSeriesOutcome('predators'),\n",
    "            TimeSeriesOutcome('prey')]\n",
    "\n",
    "    python_model.uncertainties = uncertainty\n",
    "    python_model.outcome = outcome\n",
    "\n",
    "    with SequentialEvaluator(python_model) as evaluator:\n",
    "        results = evaluator.perform_experiments(50)"
   ]
  },
  {
   "cell_type": "code",
   "execution_count": null,
   "metadata": {},
   "outputs": [],
   "source": []
  }
 ],
 "metadata": {
  "kernelspec": {
   "display_name": "Python 3",
   "language": "python",
   "name": "python3"
  },
  "language_info": {
   "codemirror_mode": {
    "name": "ipython",
    "version": 3
   },
   "file_extension": ".py",
   "mimetype": "text/x-python",
   "name": "python",
   "nbconvert_exporter": "python",
   "pygments_lexer": "ipython3",
   "version": "3.8.2-final"
  }
 },
 "nbformat": 4,
 "nbformat_minor": 4
}