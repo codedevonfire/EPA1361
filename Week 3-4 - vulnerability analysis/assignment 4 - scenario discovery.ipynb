{
 "cells": [
  {
   "cell_type": "markdown",
   "metadata": {},
   "source": [
    "# Replication assignment\n",
    "\n",
    "Replicate the results found in [Bryant et al  (2010)](https://doi.org/10.1016/j.techfore.2009.08.002), [Rozenberg et al (2014)](https://link.springer.com/content/pdf/10.1007/s10584-013-0904-3.pdf), and [Hamarat et al (2013)](https://doi.org/10.1016/j.techfore.2012.10.004). The data files are named accordingly. You can also look at [Kwakkel & Jaxa-Rozen (2016)](https://www.sciencedirect.com/science/article/pii/S1364815215301092), which gives a succint summary of these three cases. \n",
    "\n",
    "An additional useful, if dated, resource for Bryant et al is https://waterprogramming.wordpress.com/2015/08/05/scenario-discovery-in-python/ \n",
    "\n"
   ]
  },
  {
   "cell_type": "markdown",
   "metadata": {},
   "source": [
    "# Bryant & Lempert\n",
    "\n",
    "Load the data using pandas. The experiments are in colums 2-10, while the outcome is in column 15. If you look at the paper carefully, you will see that they change the peel_alpha in PRIM. This controls the leniency of the algorithm.\n"
   ]
  },
  {
   "cell_type": "code",
   "execution_count": null,
   "metadata": {},
   "outputs": [],
   "source": [
    "import pandas as pd \n",
    "\n",
    "df_bryant = pd.read_csv(r\".\\data\\Bryant et al 2010.csv\", index_col=False)\n",
    "\n",
    "df_bryant.head()\n",
    "\n",
    "experiments = df_bryant.iloc[:, 2:11]\n",
    "outcome = df_bryant.iloc[:, 15].values\n",
    "\n",
    "\n",
    "\n",
    "\n",
    "experiments.head()\n",
    "\n",
    "\n",
    "\n",
    "\n"
   ]
  },
  {
   "cell_type": "markdown",
   "metadata": {},
   "source": [
    "# Rozenberg et al\n",
    "\n",
    "\n",
    "* The experiments are the first seven columns. The remainder specify whether a given experiment belongs to a given SSP.\n",
    "* Apply prim separately for each SSP\n",
    "* you have to play with the threshold for each SSP, the default of 0.8 is at times too high\n",
    "* if you look at the paper carefully, you will discover that they change some of the default parameters of PRIM\n"
   ]
  },
  {
   "cell_type": "code",
   "execution_count": null,
   "metadata": {},
   "outputs": [],
   "source": [
    "\n",
    "import pandas as pd\n",
    "import matplotlib.pyplot as plt\n",
    "\n",
    "from ema_workbench.analysis import prim\n",
    "from ema_workbench.util import ema_logging\n",
    "\n",
    "ema_logging.log_to_stderr(ema_logging.INFO)\n",
    "\n",
    "\n",
    "\n",
    "df_rozen = pd.read_csv(r\".\\data\\Rozenberg et al 2014.csv\",delimiter=',')\n",
    "\n",
    "\n",
    "\n",
    "experiments = df_rozen.iloc[:, 0:7]\n",
    "outcome_1 = df_rozen.iloc[:,7].values\n",
    "outcome_2 = df_rozen.iloc[:,8].values\n",
    "outcome_3 = df_rozen.iloc[:,9].values\n",
    "outcome_4 = df_rozen.iloc[:,10].values\n",
    "outcome_5 = df_rozen.iloc[:,11].values\n",
    "\n",
    "\n",
    "\n",
    "prim_alg_1 = prim.Prim(experiments, outcome_1, threshold=0.4, peel_alpha=0.1)\n",
    "box1 = prim_alg_1.find_box()\n",
    "\n",
    "box1.show_tradeoff()\n",
    "print(box1.resample(5))\n",
    "box1.inspect(5)\n",
    "box1.inspect(5, style='graph')\n",
    "\n",
    "plt.show()\n",
    "\n",
    "\n",
    "\n",
    "\n",
    "\n",
    "\n"
   ]
  },
  {
   "cell_type": "code",
   "execution_count": null,
   "metadata": {},
   "outputs": [],
   "source": [
    "\n",
    "prim_alg_2 = prim.Prim(experiments, outcome_2, threshold=0.4, peel_alpha=0.1)\n",
    "box2 = prim_alg_2.find_box()\n",
    "\n",
    "box2.show_tradeoff()\n",
    "print(box2.resample(5))\n",
    "box2.inspect(5)\n",
    "box2.inspect(5, style='graph')\n",
    "\n",
    "plt.show()"
   ]
  },
  {
   "cell_type": "code",
   "execution_count": null,
   "metadata": {},
   "outputs": [],
   "source": [
    "prim_alg_3 = prim.Prim(experiments, outcome_3, threshold=0.2, peel_alpha=0.1)\n",
    "box3 = prim_alg_3.find_box()\n",
    "\n",
    "box3.show_tradeoff()\n",
    "print(box3.resample(4))\n",
    "box3.inspect(4)\n",
    "box3.inspect(4, style='graph')\n",
    "\n",
    "plt.show()"
   ]
  },
  {
   "cell_type": "code",
   "execution_count": null,
   "metadata": {},
   "outputs": [],
   "source": [
    "\n",
    "from ema_workbench.analysis import prim\n",
    "prim_alg_4 = prim.Prim(experiments, outcome_4, threshold=0.3, peel_alpha=0.1)\n",
    "box4 = prim_alg_4.find_box()\n",
    "\n",
    "box4.show_tradeoff()\n",
    "print(box4.resample(2))\n",
    "box4.inspect(2)\n",
    "box4.inspect(2, style='graph')\n",
    "\n",
    "plt.show()"
   ]
  },
  {
   "cell_type": "markdown",
   "metadata": {},
   "source": [
    "# Hamarat et al\n",
    "\n",
    "this is the most difficult dataset to analyze with prim. It has been generated using the ema_workbench and can be loaded with the `load_results` function. Experiments are of interest if the end state for `'fraction renewables'` is lower than the initial value.\n",
    "\n",
    "* PRIM struggles with finding a good explanation for this case, why?\n",
    "* [Dalal et al (2013)](https://www.sciencedirect.com/science/article/pii/S1364815213001345) suggest using PCA preprocessing. The ema_workbench supports this with the `pca_preprocess` function. See also examples/prim_PCA_preprocess.py. Does PCA preprocessing makes a difference for this case?\n"
   ]
  },
  {
   "cell_type": "code",
   "execution_count": null,
   "metadata": {},
   "outputs": [],
   "source": [
    "import matplotlib.pyplot as plt\n",
    "\n",
    "from ema_workbench import ema_logging, load_results\n",
    "import ema_workbench.analysis.prim as prim\n",
    "ema_logging.log_to_stderr(level=ema_logging.INFO)\n",
    "\n",
    "\n",
    "x, outcomes = load_results(r'.\\data\\Hamarat et al 2013.gz')\n",
    "\n",
    "\n",
    "\n",
    "# specify y\n",
    "y = outcomes['fraction renewables'][:, -1] \n",
    "\n",
    "\n"
   ]
  },
  {
   "cell_type": "code",
   "execution_count": null,
   "metadata": {},
   "outputs": [],
   "source": [
    "\n",
    "\n",
    "y = outcomes['fraction renewables'][:, -1] \n",
    "\n",
    "\n",
    "\n",
    "\n",
    "rotated_experiments, rotation_matrix = prim.pca_preprocess(x, y,\n",
    "                                                           exclude=['model', 'policy'])\n",
    "\n",
    "# perform prim on modified results tuple\n",
    "prim_obj = prim.Prim(rotated_experiments, y, threshold=0.8)\n",
    "box = prim_obj.find_box()\n",
    "\n",
    "box.show_tradeoff()\n",
    "box.inspect(22)\n",
    "plt.show()"
   ]
  },
  {
   "cell_type": "code",
   "execution_count": null,
   "metadata": {},
   "outputs": [],
   "source": []
  }
 ],
 "metadata": {
  "anaconda-cloud": {},
  "kernelspec": {
   "display_name": "Python 3",
   "language": "python",
   "name": "python3"
  },
  "language_info": {
   "codemirror_mode": {
    "name": "ipython",
    "version": 3
   },
   "file_extension": ".py",
   "mimetype": "text/x-python",
   "name": "python",
   "nbconvert_exporter": "python",
   "pygments_lexer": "ipython3",
   "version": "3.8.2-final"
  },
  "latex_envs": {
   "LaTeX_envs_menu_present": true,
   "autocomplete": true,
   "bibliofile": "biblio.bib",
   "cite_by": "apalike",
   "current_citInitial": 1,
   "eqLabelWithNumbers": true,
   "eqNumInitial": 1,
   "hotkeys": {
    "equation": "Ctrl-E",
    "itemize": "Ctrl-I"
   },
   "labels_anchors": false,
   "latex_user_defs": false,
   "report_style_numbering": false,
   "user_envs_cfg": false
  }
 },
 "nbformat": 4,
 "nbformat_minor": 4
}