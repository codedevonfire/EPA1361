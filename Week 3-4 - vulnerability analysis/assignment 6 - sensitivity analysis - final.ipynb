{
 "cells": [
  {
   "cell_type": "markdown",
   "metadata": {},
   "source": [
    "# EPA1361 - Model-Based Decision Making\n",
    "# Week 3 - Sensitivity analysis\n",
    "\n",
    "This exercise uses the same predator-prey model we used for the multi-model exercise, focusing on the Python version. As with the other exercise, define a model object for the function below, with the uncertainty ranges provided:\n",
    "\n",
    "|Parameter\t|Range or value\t        |\n",
    "|-----------|--------------:|\n",
    "|prey_birth_rate    \t|0.015 – 0.035\t|\n",
    "|predation_rate|0.0005 – 0.003 \t|\n",
    "|predator_efficiency     \t|0.001 – 0.004\t    |\n",
    "|predator_loss_rate\t    |0.04 – 0.08\t    |\n",
    "\n",
    "* Sensitivity analysis often focuses on the final values of an outcome at the end of the simulation. However, we can also look at metrics that give us additional information about the behavior of the model over time. Using [the statsmodel library](https://www.statsmodels.org/stable/index.html) and an appropriate sampling design, fit a linear regression model for each of the following indicators. What can we conclude about the behavior of the model, and about the importance of the different inputs?\n",
    "\n",
    "  * The final values of the _prey_ outcome\n",
    "  * The mean values of the _prey_ outcome over time, within each experiment\n",
    "  * The standard deviations of the _prey_ outcome over time, within each experiment\n",
    "  \n",
    "\n",
    "* Use the Sobol sampling functionality included in the Workbench to perform experiments with a sample size of N=50, then analyze the results with SALib for the same three indicators. This requires specifying the keyword argument `'uncertainty_sampling'` of perform_experiments. Note that when using Sobol sampling, the meaning of the keyword argument `scenarios` changes a bit. In order to properly estimate Sobol scores as well as interaction effects, you require N * (2D+2) scenarios, where D is the number of uncertain parameters, and N is the value for scenarios passed to `perform_experiments`. Repeat the analysis for larger sample sizes, with N=250 and N=1000. How can we interpret the first-order and total indices? Are these sample sizes sufficient for a stable estimation of the indices? You'll need to use the [get_SALib_problem](https://emaworkbench.readthedocs.io/en/latest/ema_documentation/em_framework/salib_samplers.html) function to convert your Workbench experiments to a problem definition that you can pass to the SALib analysis function. \n",
    "\n",
    "* *hint*: sobol is a deterministic sequence of quasi random numbers. Thus, you can run with N=1000 and simply slice for 1:50 and 1:250.\n",
    "\n",
    "* Use the [Extra-Trees analysis](https://emaworkbench.readthedocs.io/en/latest/ema_documentation/analysis/feature_scoring.html) included in the Workbench to approximate the Sobol total indices, with a suitable sampling design. As a starting point, use an ensemble of 100 trees and a max_features parameter of 0.6, and set the analysis to regression mode. Are the estimated importances stable relative to the sample size and the analysis parameters? How do the results compare to the Sobol indices? For more details on this analysis see [Jaxa-Rozen & Kwakkel (2018)](https://www.sciencedirect.com/science/article/pii/S1364815217311581)"
   ]
  },
  {
   "cell_type": "code",
   "execution_count": 5,
   "metadata": {
    "jupyter": {
     "outputs_hidden": false
    }
   },
   "outputs": [],
   "source": [
    "import pandas as pd\n",
    "import numpy as np\n",
    "import matplotlib.pyplot as plt\n",
    "\n",
    "from ema_workbench import (Model, RealParameter, TimeSeriesOutcome, perform_experiments,\n",
    "                           ema_logging, MultiprocessingEvaluator)\n",
    "\n",
    "\n",
    "from ema_workbench.analysis.plotting import lines, Density\n",
    "from ema_workbench.em_framework.evaluators import LHS, SOBOL, MORRIS\n",
    "\n",
    "from ema_workbench.analysis import feature_scoring\n",
    "from ema_workbench.analysis.scenario_discovery_util import RuleInductionType\n",
    "from ema_workbench.em_framework.salib_samplers import get_SALib_problem\n",
    "from SALib.analyze import sobol\n",
    "\n",
    "from predprey_function import pred_prey"
   ]
  },
  {
   "cell_type": "code",
   "execution_count": 6,
   "metadata": {},
   "outputs": [
    {
     "name": "stderr",
     "output_type": "stream",
     "text": [
      "[MainProcess/INFO] pool started\n",
      "[MainProcess/INFO] performing 100 scenarios * 1 policies * 1 model(s) = 100 experiments\n",
      "[MainProcess/INFO] 10 cases completed\n",
      "[MainProcess/INFO] 20 cases completed\n",
      "[MainProcess/INFO] 30 cases completed\n",
      "[MainProcess/INFO] 40 cases completed\n",
      "[MainProcess/INFO] 50 cases completed\n",
      "[MainProcess/INFO] 60 cases completed\n",
      "[MainProcess/INFO] 70 cases completed\n",
      "[MainProcess/INFO] 80 cases completed\n",
      "[MainProcess/INFO] 90 cases completed\n",
      "[MainProcess/INFO] 100 cases completed\n",
      "[MainProcess/INFO] experiments finished\n",
      "[MainProcess/INFO] terminating pool\n"
     ]
    }
   ],
   "source": [
    "\n",
    "#Initiate Model\n",
    "model = Model(name=\"PredPrey\", function = pred_prey)\n",
    "\n",
    "#Define Uncertainties\n",
    "model.uncertainties = [RealParameter('prey_birth_rate', 0.015 , 0.035),\n",
    "                       RealParameter('predation_rate', 0.0005 , 0.003),\n",
    "                       RealParameter('predator_efficiency', 0.001 , 0.004),\n",
    "                       RealParameter('predator_loss_rate', 0.04 , 0.08)]\n",
    "\n",
    "#Define Outcomes\n",
    "model.outcomes = [TimeSeriesOutcome('TIME'),\n",
    "                  TimeSeriesOutcome('predators'),\n",
    "                  TimeSeriesOutcome('prey')]\n",
    "\n",
    "#Turn on logging\n",
    "ema_logging.log_to_stderr(ema_logging.INFO)\n",
    "\n",
    "n_scenarios = 100\n",
    "\n",
    "with MultiprocessingEvaluator(model, n_processes=7) as evaluator:\n",
    "    experiments, outcomes = evaluator.perform_experiments(n_scenarios)"
   ]
  },
  {
   "cell_type": "code",
   "execution_count": 7,
   "metadata": {},
   "outputs": [
    {
     "data": {
      "text/plain": [
       "array([[[50.        , 49.50459627, 48.9931074 , ...,  4.23047401,\n",
       "          4.24888754,  4.26739769]],\n",
       "\n",
       "       [[50.        , 49.87073641, 49.73650238, ..., 46.10272202,\n",
       "         45.82294752, 45.53912765]],\n",
       "\n",
       "       [[50.        , 49.55323707, 49.10425562, ..., 12.36181968,\n",
       "         12.40126845, 12.44091409]],\n",
       "\n",
       "       ...,\n",
       "\n",
       "       [[50.        , 49.71046986, 49.41199719, ..., 21.7885506 ,\n",
       "         21.87725661, 21.96632767]],\n",
       "\n",
       "       [[50.        , 49.9505617 , 49.89504605, ...,  7.60929505,\n",
       "          7.64598412,  7.68290579]],\n",
       "\n",
       "       [[50.        , 49.63635447, 49.26829467, ..., 20.65733646,\n",
       "         20.7375665 , 20.81813739]]])"
      ]
     },
     "execution_count": 7,
     "metadata": {},
     "output_type": "execute_result"
    }
   ],
   "source": [
    "import statsmodels\n",
    "import statsmodels.api as sm\n",
    "import statsmodels.formula.api as smf\n",
    "\n",
    "exp_clean = experiments.drop(columns=['scenario','policy','model'])\n",
    "\n",
    "out_prey = outcomes['prey']\n",
    "out_prey"
   ]
  },
  {
   "cell_type": "code",
   "execution_count": 8,
   "metadata": {},
   "outputs": [
    {
     "data": {
      "text/html": [
       "<table class=\"simpletable\">\n",
       "<caption>OLS Regression Results</caption>\n",
       "<tr>\n",
       "  <th>Dep. Variable:</th>            <td>y</td>        <th>  R-squared (uncentered):</th>      <td>   0.960</td>\n",
       "</tr>\n",
       "<tr>\n",
       "  <th>Model:</th>                   <td>OLS</td>       <th>  Adj. R-squared (uncentered):</th> <td>   0.959</td>\n",
       "</tr>\n",
       "<tr>\n",
       "  <th>Method:</th>             <td>Least Squares</td>  <th>  F-statistic:       </th>          <td>   582.3</td>\n",
       "</tr>\n",
       "<tr>\n",
       "  <th>Date:</th>             <td>Fri, 15 May 2020</td> <th>  Prob (F-statistic):</th>          <td>2.26e-66</td>\n",
       "</tr>\n",
       "<tr>\n",
       "  <th>Time:</th>                 <td>16:08:43</td>     <th>  Log-Likelihood:    </th>          <td> -319.04</td>\n",
       "</tr>\n",
       "<tr>\n",
       "  <th>No. Observations:</th>      <td>   100</td>      <th>  AIC:               </th>          <td>   646.1</td>\n",
       "</tr>\n",
       "<tr>\n",
       "  <th>Df Residuals:</th>          <td>    96</td>      <th>  BIC:               </th>          <td>   656.5</td>\n",
       "</tr>\n",
       "<tr>\n",
       "  <th>Df Model:</th>              <td>     4</td>      <th>                     </th>              <td> </td>   \n",
       "</tr>\n",
       "<tr>\n",
       "  <th>Covariance Type:</th>      <td>nonrobust</td>    <th>                     </th>              <td> </td>   \n",
       "</tr>\n",
       "</table>\n",
       "<table class=\"simpletable\">\n",
       "<tr>\n",
       "   <td></td>     <th>coef</th>     <th>std err</th>      <th>t</th>      <th>P>|t|</th>  <th>[0.025</th>    <th>0.975]</th>  \n",
       "</tr>\n",
       "<tr>\n",
       "  <th>x1</th> <td> -615.3008</td> <td>  794.822</td> <td>   -0.774</td> <td> 0.441</td> <td>-2193.009</td> <td>  962.408</td>\n",
       "</tr>\n",
       "<tr>\n",
       "  <th>x2</th> <td>-1.155e+04</td> <td>  662.495</td> <td>  -17.432</td> <td> 0.000</td> <td>-1.29e+04</td> <td>-1.02e+04</td>\n",
       "</tr>\n",
       "<tr>\n",
       "  <th>x3</th> <td>  708.5734</td> <td>   42.476</td> <td>   16.682</td> <td> 0.000</td> <td>  624.260</td> <td>  792.887</td>\n",
       "</tr>\n",
       "<tr>\n",
       "  <th>x4</th> <td>  538.2491</td> <td>   96.412</td> <td>    5.583</td> <td> 0.000</td> <td>  346.873</td> <td>  729.625</td>\n",
       "</tr>\n",
       "</table>\n",
       "<table class=\"simpletable\">\n",
       "<tr>\n",
       "  <th>Omnibus:</th>       <td>13.992</td> <th>  Durbin-Watson:     </th> <td>   2.056</td>\n",
       "</tr>\n",
       "<tr>\n",
       "  <th>Prob(Omnibus):</th> <td> 0.001</td> <th>  Jarque-Bera (JB):  </th> <td>  18.120</td>\n",
       "</tr>\n",
       "<tr>\n",
       "  <th>Skew:</th>          <td> 0.706</td> <th>  Prob(JB):          </th> <td>0.000116</td>\n",
       "</tr>\n",
       "<tr>\n",
       "  <th>Kurtosis:</th>      <td> 4.534</td> <th>  Cond. No.          </th> <td>    87.5</td>\n",
       "</tr>\n",
       "</table><br/><br/>Warnings:<br/>[1] Standard Errors assume that the covariance matrix of the errors is correctly specified."
      ],
      "text/plain": [
       "<class 'statsmodels.iolib.summary.Summary'>\n",
       "\"\"\"\n",
       "                                 OLS Regression Results                                \n",
       "=======================================================================================\n",
       "Dep. Variable:                      y   R-squared (uncentered):                   0.960\n",
       "Model:                            OLS   Adj. R-squared (uncentered):              0.959\n",
       "Method:                 Least Squares   F-statistic:                              582.3\n",
       "Date:                Fri, 15 May 2020   Prob (F-statistic):                    2.26e-66\n",
       "Time:                        16:08:43   Log-Likelihood:                         -319.04\n",
       "No. Observations:                 100   AIC:                                      646.1\n",
       "Df Residuals:                      96   BIC:                                      656.5\n",
       "Df Model:                           4                                                  \n",
       "Covariance Type:            nonrobust                                                  \n",
       "==============================================================================\n",
       "                 coef    std err          t      P>|t|      [0.025      0.975]\n",
       "------------------------------------------------------------------------------\n",
       "x1          -615.3008    794.822     -0.774      0.441   -2193.009     962.408\n",
       "x2         -1.155e+04    662.495    -17.432      0.000   -1.29e+04   -1.02e+04\n",
       "x3           708.5734     42.476     16.682      0.000     624.260     792.887\n",
       "x4           538.2491     96.412      5.583      0.000     346.873     729.625\n",
       "==============================================================================\n",
       "Omnibus:                       13.992   Durbin-Watson:                   2.056\n",
       "Prob(Omnibus):                  0.001   Jarque-Bera (JB):               18.120\n",
       "Skew:                           0.706   Prob(JB):                     0.000116\n",
       "Kurtosis:                       4.534   Cond. No.                         87.5\n",
       "==============================================================================\n",
       "\n",
       "Warnings:\n",
       "[1] Standard Errors assume that the covariance matrix of the errors is correctly specified.\n",
       "\"\"\""
      ]
     },
     "execution_count": 8,
     "metadata": {},
     "output_type": "execute_result"
    }
   ],
   "source": [
    "prey_mean = np.mean(out_prey[:,0,:], axis=1)\n",
    "prey_mean\n",
    "\n",
    "linear_mean = statsmodels.regression.linear_model.OLS(prey_mean, exp_clean.values)\n",
    "\n",
    "fit_mean = linear_mean.fit()\n",
    "\n",
    "fit_mean.summary()"
   ]
  },
  {
   "cell_type": "code",
   "execution_count": 9,
   "metadata": {},
   "outputs": [
    {
     "data": {
      "text/html": [
       "<table class=\"simpletable\">\n",
       "<caption>OLS Regression Results</caption>\n",
       "<tr>\n",
       "  <th>Dep. Variable:</th>            <td>y</td>        <th>  R-squared (uncentered):</th>      <td>   0.944</td>\n",
       "</tr>\n",
       "<tr>\n",
       "  <th>Model:</th>                   <td>OLS</td>       <th>  Adj. R-squared (uncentered):</th> <td>   0.942</td>\n",
       "</tr>\n",
       "<tr>\n",
       "  <th>Method:</th>             <td>Least Squares</td>  <th>  F-statistic:       </th>          <td>   406.9</td>\n",
       "</tr>\n",
       "<tr>\n",
       "  <th>Date:</th>             <td>Fri, 15 May 2020</td> <th>  Prob (F-statistic):</th>          <td>2.92e-59</td>\n",
       "</tr>\n",
       "<tr>\n",
       "  <th>Time:</th>                 <td>16:08:56</td>     <th>  Log-Likelihood:    </th>          <td> -271.30</td>\n",
       "</tr>\n",
       "<tr>\n",
       "  <th>No. Observations:</th>      <td>   100</td>      <th>  AIC:               </th>          <td>   550.6</td>\n",
       "</tr>\n",
       "<tr>\n",
       "  <th>Df Residuals:</th>          <td>    96</td>      <th>  BIC:               </th>          <td>   561.0</td>\n",
       "</tr>\n",
       "<tr>\n",
       "  <th>Df Model:</th>              <td>     4</td>      <th>                     </th>              <td> </td>   \n",
       "</tr>\n",
       "<tr>\n",
       "  <th>Covariance Type:</th>      <td>nonrobust</td>    <th>                     </th>              <td> </td>   \n",
       "</tr>\n",
       "</table>\n",
       "<table class=\"simpletable\">\n",
       "<tr>\n",
       "   <td></td>     <th>coef</th>     <th>std err</th>      <th>t</th>      <th>P>|t|</th>  <th>[0.025</th>    <th>0.975]</th>  \n",
       "</tr>\n",
       "<tr>\n",
       "  <th>x1</th> <td> 1559.5758</td> <td>  493.106</td> <td>    3.163</td> <td> 0.002</td> <td>  580.769</td> <td> 2538.383</td>\n",
       "</tr>\n",
       "<tr>\n",
       "  <th>x2</th> <td>  919.8180</td> <td>  411.010</td> <td>    2.238</td> <td> 0.028</td> <td>  103.969</td> <td> 1735.667</td>\n",
       "</tr>\n",
       "<tr>\n",
       "  <th>x3</th> <td>  140.7240</td> <td>   26.352</td> <td>    5.340</td> <td> 0.000</td> <td>   88.416</td> <td>  193.032</td>\n",
       "</tr>\n",
       "<tr>\n",
       "  <th>x4</th> <td>   55.0656</td> <td>   59.814</td> <td>    0.921</td> <td> 0.360</td> <td>  -63.663</td> <td>  173.795</td>\n",
       "</tr>\n",
       "</table>\n",
       "<table class=\"simpletable\">\n",
       "<tr>\n",
       "  <th>Omnibus:</th>       <td>17.697</td> <th>  Durbin-Watson:     </th> <td>   2.017</td>\n",
       "</tr>\n",
       "<tr>\n",
       "  <th>Prob(Omnibus):</th> <td> 0.000</td> <th>  Jarque-Bera (JB):  </th> <td>  27.839</td>\n",
       "</tr>\n",
       "<tr>\n",
       "  <th>Skew:</th>          <td> 0.776</td> <th>  Prob(JB):          </th> <td>9.01e-07</td>\n",
       "</tr>\n",
       "<tr>\n",
       "  <th>Kurtosis:</th>      <td> 5.067</td> <th>  Cond. No.          </th> <td>    87.5</td>\n",
       "</tr>\n",
       "</table><br/><br/>Warnings:<br/>[1] Standard Errors assume that the covariance matrix of the errors is correctly specified."
      ],
      "text/plain": [
       "<class 'statsmodels.iolib.summary.Summary'>\n",
       "\"\"\"\n",
       "                                 OLS Regression Results                                \n",
       "=======================================================================================\n",
       "Dep. Variable:                      y   R-squared (uncentered):                   0.944\n",
       "Model:                            OLS   Adj. R-squared (uncentered):              0.942\n",
       "Method:                 Least Squares   F-statistic:                              406.9\n",
       "Date:                Fri, 15 May 2020   Prob (F-statistic):                    2.92e-59\n",
       "Time:                        16:08:56   Log-Likelihood:                         -271.30\n",
       "No. Observations:                 100   AIC:                                      550.6\n",
       "Df Residuals:                      96   BIC:                                      561.0\n",
       "Df Model:                           4                                                  \n",
       "Covariance Type:            nonrobust                                                  \n",
       "==============================================================================\n",
       "                 coef    std err          t      P>|t|      [0.025      0.975]\n",
       "------------------------------------------------------------------------------\n",
       "x1          1559.5758    493.106      3.163      0.002     580.769    2538.383\n",
       "x2           919.8180    411.010      2.238      0.028     103.969    1735.667\n",
       "x3           140.7240     26.352      5.340      0.000      88.416     193.032\n",
       "x4            55.0656     59.814      0.921      0.360     -63.663     173.795\n",
       "==============================================================================\n",
       "Omnibus:                       17.697   Durbin-Watson:                   2.017\n",
       "Prob(Omnibus):                  0.000   Jarque-Bera (JB):               27.839\n",
       "Skew:                           0.776   Prob(JB):                     9.01e-07\n",
       "Kurtosis:                       5.067   Cond. No.                         87.5\n",
       "==============================================================================\n",
       "\n",
       "Warnings:\n",
       "[1] Standard Errors assume that the covariance matrix of the errors is correctly specified.\n",
       "\"\"\""
      ]
     },
     "execution_count": 9,
     "metadata": {},
     "output_type": "execute_result"
    }
   ],
   "source": [
    "prey_std = np.std(out_prey[:,0,:], axis=1)\n",
    "prey_std\n",
    "\n",
    "linear_std = statsmodels.regression.linear_model.OLS(prey_std, exp_clean.values)\n",
    "\n",
    "fit_std = linear_std.fit()\n",
    "\n",
    "\n",
    "fit_std.summary()\n",
    "\n",
    "#From the behavior of the pred prey model we can conclude that \n",
    "# predator _efficiency has the highest uncertainty due to its high variance.\n"
   ]
  },
  {
   "cell_type": "code",
   "execution_count": 10,
   "metadata": {},
   "outputs": [
    {
     "name": "stderr",
     "output_type": "stream",
     "text": [
      "[MainProcess/INFO] pool started\n",
      "[MainProcess/INFO] performing 5000 scenarios * 1 policies * 1 model(s) = 5000 experiments\n",
      "[MainProcess/INFO] 500 cases completed\n",
      "[MainProcess/INFO] 1000 cases completed\n",
      "[MainProcess/INFO] 1500 cases completed\n",
      "[MainProcess/INFO] 2000 cases completed\n",
      "[MainProcess/INFO] 2500 cases completed\n",
      "[MainProcess/INFO] 3000 cases completed\n",
      "[MainProcess/INFO] 3500 cases completed\n",
      "[MainProcess/INFO] 4000 cases completed\n",
      "[MainProcess/INFO] 4500 cases completed\n",
      "[MainProcess/INFO] 5000 cases completed\n",
      "[MainProcess/INFO] experiments finished\n",
      "[MainProcess/INFO] terminating pool\n"
     ]
    }
   ],
   "source": [
    "\n",
    "#SOBOL\n",
    "\n",
    "with MultiprocessingEvaluator(model) as evaluator:\n",
    "    sa_results = evaluator.perform_experiments(scenarios=500,\n",
    "                                               uncertainty_sampling='sobol')\n",
    "\n",
    "experiments, outcomes = sa_results\n",
    "\n",
    "problem = get_SALib_problem(model.uncertainties)"
   ]
  },
  {
   "cell_type": "code",
   "execution_count": 14,
   "metadata": {},
   "outputs": [],
   "source": [
    "out_prey_sobol = np.mean(outcomes['prey'][:,0,:], axis=1)\n",
    "Si = sobol.analyze(problem, out_prey_sobol,\n",
    "                   calc_second_order=True, print_to_console=False)"
   ]
  },
  {
   "cell_type": "code",
   "execution_count": 15,
   "metadata": {},
   "outputs": [
    {
     "data": {
      "image/png": "[encoded data removed]",
      "text/plain": [
       "<Figure size 576x432 with 1 Axes>"
      ]
     },
     "metadata": {},
     "output_type": "display_data"
    }
   ],
   "source": [
    "import seaborn as sns\n",
    "\n",
    "scores_filtered = {k:Si[k] for k in ['ST','ST_conf','S1','S1_conf']}\n",
    "Si_df = pd.DataFrame(scores_filtered, index=problem['names'])\n",
    "\n",
    "sns.set_style('white')\n",
    "fig, ax = plt.subplots(1)\n",
    "\n",
    "indices = Si_df[['S1','ST']]\n",
    "err = Si_df[['S1_conf','ST_conf']]\n",
    "\n",
    "indices.plot.bar(yerr=err.values.T,ax=ax)\n",
    "fig.set_size_inches(8,6)\n",
    "fig.subplots_adjust(bottom=0.3)\n",
    "plt.show()\n",
    "\n",
    "\n",
    "#Different between total order indices with first order indices- large difference means large difference between the confidence interval.\n",
    "# - you need to look at histogram to know the difference.\n"
   ]
  },
  {
   "cell_type": "code",
   "execution_count": 17,
   "metadata": {},
   "outputs": [
    {
     "name": "stderr",
     "output_type": "stream",
     "text": [
      "[MainProcess/INFO] policy dropped from analysis because only a single category\n",
      "[MainProcess/INFO] model dropped from analysis because only a single category\n",
      "[MainProcess/INFO] policy dropped from analysis because only a single category\n",
      "[MainProcess/INFO] model dropped from analysis because only a single category\n",
      "[MainProcess/INFO] policy dropped from analysis because only a single category\n",
      "[MainProcess/INFO] model dropped from analysis because only a single category\n"
     ]
    },
    {
     "data": {
      "image/png": "[encoded data removed]",
      "text/plain": [
       "<Figure size 432x288 with 2 Axes>"
      ]
     },
     "metadata": {},
     "output_type": "display_data"
    }
   ],
   "source": [
    "\n",
    "#Extra_tree\n",
    "\n",
    "from ema_workbench.analysis import feature_scoring, scenario_discovery_util\n",
    "import seaborn as sns\n",
    "out_tuple = {key:outcomes[key][:,0,:] for key in outcomes.keys()}\n",
    "\n",
    "x = experiments\n",
    "y = out_tuple\n",
    "\n",
    "fs = feature_scoring.get_feature_scores_all(x, y, alg='extra trees')\n",
    "sns.heatmap(fs, cmap='viridis', annot=True)\n",
    "plt.show()"
   ]
  },
  {
   "cell_type": "code",
   "execution_count": 18,
   "metadata": {},
   "outputs": [
    {
     "data": {
      "text/plain": [
       "predation_rate         0.005425\n",
       "predator_efficiency    0.828010\n",
       "predator_loss_rate     0.215999\n",
       "prey_birth_rate        0.010643\n",
       "Name: ST, dtype: float64"
      ]
     },
     "execution_count": 18,
     "metadata": {},
     "output_type": "execute_result"
    }
   ],
   "source": [
    "st = indices['ST']\n",
    "st"
   ]
  },
  {
   "cell_type": "code",
   "execution_count": 19,
   "metadata": {},
   "outputs": [
    {
     "name": "stderr",
     "output_type": "stream",
     "text": [
      "[MainProcess/INFO] policy dropped from analysis because only a single category\n",
      "[MainProcess/INFO] model dropped from analysis because only a single category\n"
     ]
    },
    {
     "data": {
      "image/png": "[encoded data removed]",
      "text/plain": [
       "<Figure size 432x288 with 2 Axes>"
      ]
     },
     "metadata": {},
     "output_type": "display_data"
    }
   ],
   "source": [
    "\n",
    "from ema_workbench.analysis import feature_scoring, scenario_discovery_util\n",
    "import seaborn as sns\n",
    "out_tuple = {key:outcomes[key][:,0,:] for key in outcomes.keys()}\n",
    "\n",
    "x = experiments\n",
    "x_cut = x.iloc[:,:-2]\n",
    "#out_trans = np.transpose(out_tuple['prey'])\n",
    "#y = np.mean([out_trans], axis=1)\n",
    "y = np.mean(out_tuple['prey'], axis = 1)\n",
    "#y = out_tuple['prey']\n",
    "\n",
    "fs = feature_scoring.get_ex_feature_scores(x, y, mode=RuleInductionType.REGRESSION, nr_trees=100, max_features=0.6)[0]\n",
    "\n",
    "sns.heatmap(fs, cmap='viridis', annot=True)\n",
    "plt.show()"
   ]
  },
  {
   "cell_type": "code",
   "execution_count": null,
   "metadata": {},
   "outputs": [],
   "source": []
  }
 ],
 "metadata": {
  "kernelspec": {
   "display_name": "Python 3",
   "language": "python",
   "name": "python3"
  },
  "language_info": {
   "codemirror_mode": {
    "name": "ipython",
    "version": 3
   },
   "file_extension": ".py",
   "mimetype": "text/x-python",
   "name": "python",
   "nbconvert_exporter": "python",
   "pygments_lexer": "ipython3",
   "version": "3.7.3"
  }
 },
 "nbformat": 4,
 "nbformat_minor": 4
}
