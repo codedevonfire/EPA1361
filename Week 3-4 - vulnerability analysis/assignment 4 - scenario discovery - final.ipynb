{
 "cells": [
  {
   "cell_type": "markdown",
   "metadata": {},
   "source": [
    "# Replication assignment\n",
    "\n",
    "Replicate the results found in [Bryant et al  (2010)](https://doi.org/10.1016/j.techfore.2009.08.002), [Rozenberg et al (2014)](https://link.springer.com/content/pdf/10.1007/s10584-013-0904-3.pdf), and [Hamarat et al (2013)](https://doi.org/10.1016/j.techfore.2012.10.004). The data files are named accordingly. You can also look at [Kwakkel & Jaxa-Rozen (2016)](https://www.sciencedirect.com/science/article/pii/S1364815215301092), which gives a succint summary of these three cases. \n",
    "\n",
    "An additional useful, if dated, resource for Bryant et al is https://waterprogramming.wordpress.com/2015/08/05/scenario-discovery-in-python/ \n",
    "\n"
   ]
  },
  {
   "cell_type": "markdown",
   "metadata": {},
   "source": [
    "# Bryant & Lempert\n",
    "\n",
    "Load the data using pandas. The experiments are in colums 2-10, while the outcome is in column 15. If you look at the paper carefully, you will see that they change the peel_alpha in PRIM. This controls the leniency of the algorithm.\n"
   ]
  },
  {
   "cell_type": "code",
   "execution_count": 2,
   "metadata": {},
   "outputs": [
    {
     "name": "stdout",
     "output_type": "stream",
     "text": [
      "                          reproduce coverage  reproduce density\n",
      "Total biomass                          100.0              100.0\n",
      "Demand elasticity                      100.0              100.0\n",
      "Biomass backstop price                 100.0              100.0\n",
      "Cellulosic cost                         80.0               80.0\n",
      "Cellulosic yield                        10.0               30.0\n",
      "Electricity coproduction                10.0               10.0\n",
      "Feedstock distribution                   0.0                0.0\n",
      "Oil elasticity                           0.0                0.0\n",
      "oil supply shift                         0.0                0.0\n",
      "coverage     0.752809\n",
      "density      0.770115\n",
      "id                 21\n",
      "mass        0.0986395\n",
      "mean         0.770115\n",
      "res_dim             4\n",
      "Name: 21, dtype: object\n",
      "\n",
      "                            box 21                                            \n",
      "                               min         max                       qp values\n",
      "Total biomass           450.000000  755.799988   [-1.0, 4.716968553178765e-06]\n",
      "Demand elasticity        -0.422000   -0.202000  [1.1849299115762218e-16, -1.0]\n",
      "Biomass backstop price  150.049995  199.600006   [3.515112530263049e-11, -1.0]\n",
      "Cellulosic cost          72.650002  133.699997     [0.15741333528927348, -1.0]\n",
      "\n"
     ]
    },
    {
     "data": {
      "text/plain": [
       "<Figure size 640x480 with 2 Axes>"
      ]
     },
     "metadata": {},
     "output_type": "display_data"
    },
    {
     "data": {
      "text/plain": [
       "<Figure size 640x480 with 1 Axes>"
      ]
     },
     "metadata": {},
     "output_type": "display_data"
    }
   ],
   "source": [
    "import pandas as pd\n",
    "import matplotlib.pyplot as plt\n",
    "\n",
    "from ema_workbench.analysis import prim\n",
    "from ema_workbench.util import ema_logging\n",
    "\n",
    "#ema_logging.log_to_stderr(ema_logging.INFO)\n",
    "\n",
    "bryant = pd.read_csv(r\".\\data\\Bryant et al 2010.csv\", index_col=False)\n",
    "\n",
    "x = bryant.iloc[:, 2:11]\n",
    "y = bryant.iloc[:, 15].values\n",
    "\n",
    "\n",
    "\n",
    "\n",
    "prim_alg = prim.Prim(x, y, threshold=0.8, peel_alpha=0.1)\n",
    "box1 = prim_alg.find_box()\n",
    "\n",
    "box1.show_tradeoff()\n",
    "print(box1.resample(21))\n",
    "box1.inspect(21)\n",
    "box1.inspect(21, style='graph')\n",
    "\n",
    "plt.show()\n",
    "\n"
   ]
  },
  {
   "cell_type": "markdown",
   "metadata": {},
   "source": [
    "# Rozenberg et al\n",
    "\n",
    "\n",
    "* The experiments are the first seven columns. The remainder specify whether a given experiment belongs to a given SSP.\n",
    "* Apply prim separately for each SSP\n",
    "* you have to play with the threshold for each SSP, the default of 0.8 is at times too high\n",
    "* if you look at the paper carefully, you will discover that they change some of the default parameters of PRIM\n"
   ]
  },
  {
   "cell_type": "code",
   "execution_count": 3,
   "metadata": {},
   "outputs": [
    {
     "data": {
      "text/html": [
       "<div>\n",
       "<style scoped>\n",
       "    .dataframe tbody tr th:only-of-type {\n",
       "        vertical-align: middle;\n",
       "    }\n",
       "\n",
       "    .dataframe tbody tr th {\n",
       "        vertical-align: top;\n",
       "    }\n",
       "\n",
       "    .dataframe thead th {\n",
       "        text-align: right;\n",
       "    }\n",
       "</style>\n",
       "<table border=\"1\" class=\"dataframe\">\n",
       "  <thead>\n",
       "    <tr style=\"text-align: right;\">\n",
       "      <th></th>\n",
       "      <th>inequalities</th>\n",
       "      <th>convergence</th>\n",
       "      <th>population</th>\n",
       "      <th>behaviors</th>\n",
       "      <th>technologies</th>\n",
       "      <th>fossils</th>\n",
       "      <th>capital markets</th>\n",
       "      <th>SSP1</th>\n",
       "      <th>SSP2</th>\n",
       "      <th>SSP3</th>\n",
       "      <th>SSP4</th>\n",
       "      <th>SSP5</th>\n",
       "    </tr>\n",
       "  </thead>\n",
       "  <tbody>\n",
       "    <tr>\n",
       "      <th>0</th>\n",
       "      <td>0</td>\n",
       "      <td>2</td>\n",
       "      <td>0</td>\n",
       "      <td>0</td>\n",
       "      <td>0</td>\n",
       "      <td>0</td>\n",
       "      <td>0</td>\n",
       "      <td>0</td>\n",
       "      <td>0</td>\n",
       "      <td>0</td>\n",
       "      <td>0</td>\n",
       "      <td>0</td>\n",
       "    </tr>\n",
       "    <tr>\n",
       "      <th>1</th>\n",
       "      <td>0</td>\n",
       "      <td>2</td>\n",
       "      <td>0</td>\n",
       "      <td>0</td>\n",
       "      <td>0</td>\n",
       "      <td>0</td>\n",
       "      <td>1</td>\n",
       "      <td>0</td>\n",
       "      <td>0</td>\n",
       "      <td>0</td>\n",
       "      <td>0</td>\n",
       "      <td>0</td>\n",
       "    </tr>\n",
       "    <tr>\n",
       "      <th>2</th>\n",
       "      <td>0</td>\n",
       "      <td>2</td>\n",
       "      <td>0</td>\n",
       "      <td>0</td>\n",
       "      <td>0</td>\n",
       "      <td>1</td>\n",
       "      <td>0</td>\n",
       "      <td>0</td>\n",
       "      <td>0</td>\n",
       "      <td>0</td>\n",
       "      <td>0</td>\n",
       "      <td>0</td>\n",
       "    </tr>\n",
       "    <tr>\n",
       "      <th>3</th>\n",
       "      <td>0</td>\n",
       "      <td>2</td>\n",
       "      <td>0</td>\n",
       "      <td>0</td>\n",
       "      <td>0</td>\n",
       "      <td>1</td>\n",
       "      <td>1</td>\n",
       "      <td>0</td>\n",
       "      <td>0</td>\n",
       "      <td>0</td>\n",
       "      <td>0</td>\n",
       "      <td>0</td>\n",
       "    </tr>\n",
       "    <tr>\n",
       "      <th>4</th>\n",
       "      <td>0</td>\n",
       "      <td>2</td>\n",
       "      <td>0</td>\n",
       "      <td>0</td>\n",
       "      <td>1</td>\n",
       "      <td>0</td>\n",
       "      <td>0</td>\n",
       "      <td>0</td>\n",
       "      <td>1</td>\n",
       "      <td>0</td>\n",
       "      <td>0</td>\n",
       "      <td>0</td>\n",
       "    </tr>\n",
       "  </tbody>\n",
       "</table>\n",
       "</div>"
      ],
      "text/plain": [
       "   inequalities  convergence  population  behaviors  technologies  fossils  \\\n",
       "0             0            2           0          0             0        0   \n",
       "1             0            2           0          0             0        0   \n",
       "2             0            2           0          0             0        1   \n",
       "3             0            2           0          0             0        1   \n",
       "4             0            2           0          0             1        0   \n",
       "\n",
       "   capital markets  SSP1  SSP2  SSP3  SSP4  SSP5  \n",
       "0                0     0     0     0     0     0  \n",
       "1                1     0     0     0     0     0  \n",
       "2                0     0     0     0     0     0  \n",
       "3                1     0     0     0     0     0  \n",
       "4                0     0     1     0     0     0  "
      ]
     },
     "execution_count": 3,
     "metadata": {},
     "output_type": "execute_result"
    }
   ],
   "source": [
    "\n",
    "df_rozenberg= pd.read_csv(r'.\\data\\Rozenberg et al 2014.csv', index_col=False)\n",
    "\n",
    "experiments = df_rozenberg.iloc[:, 0:7]\n",
    "outcome = df_rozenberg.iloc[:, 7].values\n",
    "\n",
    "df_rozenberg.head()"
   ]
  },
  {
   "cell_type": "markdown",
   "metadata": {},
   "source": [
    "# SSP1"
   ]
  },
  {
   "cell_type": "code",
   "execution_count": 4,
   "metadata": {},
   "outputs": [
    {
     "name": "stdout",
     "output_type": "stream",
     "text": [
      "                 reproduce coverage  reproduce density\n",
      "behaviors                     100.0              100.0\n",
      "inequalities                   80.0               80.0\n",
      "population                     70.0               80.0\n",
      "convergence                    30.0               30.0\n",
      "technologies                    0.0               20.0\n",
      "fossils                         0.0                0.0\n",
      "capital markets                 0.0                0.0\n",
      "coverage    0.704545\n",
      "density     0.659574\n",
      "id                 3\n",
      "mass        0.164336\n",
      "mean        0.659574\n",
      "res_dim            3\n",
      "Name: 3, dtype: object\n",
      "\n",
      "             box 3                                    \n",
      "               min  max                      qp values\n",
      "population     0.0  1.0   [-1.0, 0.005972420192480504]\n",
      "behaviors      1.0  1.0  [1.469768735781625e-06, -1.0]\n",
      "inequalities   1.0  1.0   [0.000977219127931685, -1.0]\n",
      "\n"
     ]
    },
    {
     "data": {
      "image/png": "[encoded data removed]",
      "text/plain": [
       "<Figure size 432x288 with 2 Axes>"
      ]
     },
     "metadata": {
      "needs_background": "light"
     },
     "output_type": "display_data"
    },
    {
     "data": {
      "image/png": "[encoded data removed]",
      "text/plain": [
       "<Figure size 432x288 with 1 Axes>"
      ]
     },
     "metadata": {
      "needs_background": "light"
     },
     "output_type": "display_data"
    },
    {
     "data": {
      "text/html": [
       "\n",
       "<div id=\"altair-viz-f0b4750d700b4687b6e2486f1450532b\"></div>\n",
       "<script type=\"text/javascript\">\n",
       "  (function(spec, embedOpt){\n",
       "    let outputDiv = document.currentScript.previousElementSibling;\n",
       "    if (outputDiv.id !== \"altair-viz-f0b4750d700b4687b6e2486f1450532b\") {\n",
       "      outputDiv = document.getElementById(\"altair-viz-f0b4750d700b4687b6e2486f1450532b\");\n",
       "    }\n",
       "    const paths = {\n",
       "      \"vega\": \"https://cdn.jsdelivr.net/npm//vega@5?noext\",\n",
       "      \"vega-lib\": \"https://cdn.jsdelivr.net/npm//vega-lib?noext\",\n",
       "      \"vega-lite\": \"https://cdn.jsdelivr.net/npm//vega-lite@4.8.1?noext\",\n",
       "      \"vega-embed\": \"https://cdn.jsdelivr.net/npm//vega-embed@6?noext\",\n",
       "    };\n",
       "\n",
       "    function loadScript(lib) {\n",
       "      return new Promise(function(resolve, reject) {\n",
       "        var s = document.createElement('script');\n",
       "        s.src = paths[lib];\n",
       "        s.async = true;\n",
       "        s.onload = () => resolve(paths[lib]);\n",
       "        s.onerror = () => reject(`Error loading script: ${paths[lib]}`);\n",
       "        document.getElementsByTagName(\"head\")[0].appendChild(s);\n",
       "      });\n",
       "    }\n",
       "\n",
       "    function showError(err) {\n",
       "      outputDiv.innerHTML = `<div class=\"error\" style=\"color:red;\">${err}</div>`;\n",
       "      throw err;\n",
       "    }\n",
       "\n",
       "    function displayChart(vegaEmbed) {\n",
       "      vegaEmbed(outputDiv, spec, embedOpt)\n",
       "        .catch(err => showError(`Javascript Error: ${err.message}<br>This usually means there's a typo in your chart specification. See the javascript console for the full traceback.`));\n",
       "    }\n",
       "\n",
       "    if(typeof define === \"function\" && define.amd) {\n",
       "      requirejs.config({paths});\n",
       "      require([\"vega-embed\"], displayChart, err => showError(`Error loading script: ${err.message}`));\n",
       "    } else if (typeof vegaEmbed === \"function\") {\n",
       "      displayChart(vegaEmbed);\n",
       "    } else {\n",
       "      loadScript(\"vega\")\n",
       "        .then(() => loadScript(\"vega-lite\"))\n",
       "        .then(() => loadScript(\"vega-embed\"))\n",
       "        .catch(showError)\n",
       "        .then(() => displayChart(vegaEmbed));\n",
       "    }\n",
       "  })({\"config\": {\"view\": {\"continuousWidth\": 400, \"continuousHeight\": 300}}, \"vconcat\": [{\"data\": {\"name\": \"data-4d55757c940b2f4ccc39d4e3bbf18f2d\"}, \"mark\": {\"type\": \"circle\", \"size\": 75}, \"encoding\": {\"color\": {\"type\": \"ordinal\", \"field\": \"res_dim\", \"scale\": {\"range\": [\"#eff9b6\", \"#d0edb3\", \"#97d6b9\", \"#5dc0c0\", \"#31a5c2\", \"#1f80b8\", \"#2354a3\", \"#21318d\"]}}, \"opacity\": {\"condition\": {\"value\": 1, \"selection\": \"selector001\"}, \"value\": 0.4}, \"tooltip\": [{\"type\": \"ordinal\", \"field\": \"id\"}, {\"type\": \"quantitative\", \"field\": \"coverage\", \"format\": \".2\"}, {\"type\": \"quantitative\", \"field\": \"density\", \"format\": \".2\"}, {\"type\": \"ordinal\", \"field\": \"res_dim\"}], \"x\": {\"type\": \"quantitative\", \"field\": \"coverage\"}, \"y\": {\"type\": \"quantitative\", \"field\": \"density\"}}, \"height\": 400, \"selection\": {\"selector001\": {\"type\": \"single\", \"fields\": [\"id\"]}}, \"width\": 400}, {\"layer\": [{\"data\": {\"name\": \"data-c0ea0e4de5d15f43b6f4527dcfe77c96\"}, \"mark\": \"rule\", \"encoding\": {\"x\": {\"type\": \"quantitative\", \"axis\": {\"grid\": false, \"labels\": false, \"title\": \"box limits\"}, \"field\": \"x_lower\", \"scale\": {\"domain\": [0, 1], \"padding\": 0.1}}, \"x2\": {\"field\": \"x_upper\"}, \"y\": {\"type\": \"nominal\", \"field\": \"name\", \"scale\": {\"padding\": 1.0}}}, \"transform\": [{\"calculate\": \"(datum.x1-datum.minimum)/(datum.maximum-datum.minimum)\", \"as\": \"x_lower\"}, {\"calculate\": \"(datum.x2-datum.minimum)/(datum.maximum-datum.minimum)\", \"as\": \"x_upper\"}, {\"filter\": {\"selection\": \"selector001\"}}], \"width\": 400}, {\"data\": {\"name\": \"data-c0ea0e4de5d15f43b6f4527dcfe77c96\"}, \"mark\": {\"type\": \"text\", \"align\": \"left\", \"baseline\": \"top\", \"dy\": 5}, \"encoding\": {\"text\": {\"type\": \"ordinal\", \"field\": \"text\"}, \"x\": {\"type\": \"quantitative\", \"axis\": {\"grid\": false, \"labels\": false, \"title\": \"box limits\"}, \"field\": \"x_lower\", \"scale\": {\"domain\": [0, 1], \"padding\": 0.1}}, \"x2\": {\"field\": \"x_upper\"}, \"y\": {\"type\": \"nominal\", \"field\": \"name\", \"scale\": {\"padding\": 1.0}}}, \"transform\": [{\"calculate\": \"(datum.x1-datum.minimum)/(datum.maximum-datum.minimum)\", \"as\": \"x_lower\"}, {\"calculate\": \"(datum.x2-datum.minimum)/(datum.maximum-datum.minimum)\", \"as\": \"x_upper\"}, {\"filter\": {\"selection\": \"selector001\"}}, {\"calculate\": \"datum.qp_lower>0?format(datum.x1, \\\".2\\\")+\\\" (\\\"+format(datum.qp_lower, \\\".1~g\\\")+\\\")\\\" :format(datum.x1, \\\".2\\\")\", \"as\": \"text\"}], \"width\": 400}, {\"data\": {\"name\": \"data-c0ea0e4de5d15f43b6f4527dcfe77c96\"}, \"mark\": {\"type\": \"text\", \"align\": \"right\", \"baseline\": \"top\", \"dy\": 5}, \"encoding\": {\"text\": {\"type\": \"ordinal\", \"field\": \"text\"}, \"x\": {\"type\": \"quantitative\", \"field\": \"x_upper\"}, \"x2\": {\"field\": \"x_upper\"}, \"y\": {\"type\": \"nominal\", \"field\": \"name\", \"scale\": {\"padding\": 1.0}}}, \"transform\": [{\"calculate\": \"(datum.x1-datum.minimum)/(datum.maximum-datum.minimum)\", \"as\": \"x_lower\"}, {\"calculate\": \"(datum.x2-datum.minimum)/(datum.maximum-datum.minimum)\", \"as\": \"x_upper\"}, {\"filter\": {\"selection\": \"selector001\"}}, {\"calculate\": \"datum.qp_upper>0?format(datum.x2, \\\".2\\\")+\\\" (\\\"+format(datum.qp_upper, \\\".1\\\")+\\\")\\\" :format(datum.x2, \\\".2\\\")\", \"as\": \"text\"}], \"width\": 400}, {\"data\": {\"name\": \"data-bb8d07f6df3d47a6a475317795287b23\"}, \"mark\": {\"type\": \"rect\", \"opacity\": 0.05}, \"encoding\": {\"x\": {\"type\": \"quantitative\", \"field\": \"start\"}, \"x2\": {\"field\": \"end\"}}}, {\"data\": {\"name\": \"data-d751713988987e9331980363e24189ce\"}, \"mark\": \"point\", \"encoding\": {\"x\": {\"type\": \"quantitative\", \"field\": \"x\"}, \"y\": {\"type\": \"nominal\", \"field\": \"name\"}}, \"transform\": [{\"filter\": {\"selection\": \"selector001\"}}], \"width\": 400}, {\"data\": {\"name\": \"data-d751713988987e9331980363e24189ce\"}, \"mark\": {\"type\": \"text\", \"align\": \"center\", \"baseline\": \"top\", \"dy\": 5}, \"encoding\": {\"text\": {\"type\": \"nominal\", \"field\": \"item\"}, \"x\": {\"type\": \"quantitative\", \"field\": \"x\"}, \"y\": {\"type\": \"nominal\", \"field\": \"name\"}}, \"transform\": [{\"filter\": {\"selection\": \"selector001\"}}], \"width\": 400}]}], \"$schema\": \"https://vega.github.io/schema/vega-lite/v4.8.1.json\", \"datasets\": {\"data-4d55757c940b2f4ccc39d4e3bbf18f2d\": [{\"coverage\": 1.0, \"density\": 0.15384615384615385, \"id\": 0, \"mass\": 1.0, \"mean\": 0.15384615384615385, \"res_dim\": 0}, {\"coverage\": 1.0, \"density\": 0.30985915492957744, \"id\": 1, \"mass\": 0.4965034965034965, \"mean\": 0.30985915492957744, \"res_dim\": 1}, {\"coverage\": 0.9318181818181818, \"density\": 0.43617021276595747, \"id\": 2, \"mass\": 0.32867132867132864, \"mean\": 0.43617021276595747, \"res_dim\": 2}, {\"coverage\": 0.7045454545454546, \"density\": 0.6595744680851063, \"id\": 3, \"mass\": 0.16433566433566432, \"mean\": 0.6595744680851063, \"res_dim\": 3}, {\"coverage\": 0.5454545454545454, \"density\": 0.7741935483870968, \"id\": 4, \"mass\": 0.10839160839160839, \"mean\": 0.7741935483870968, \"res_dim\": 4}, {\"coverage\": 0.3409090909090909, \"density\": 0.9375, \"id\": 5, \"mass\": 0.055944055944055944, \"mean\": 0.9375, \"res_dim\": 4}], \"data-c0ea0e4de5d15f43b6f4527dcfe77c96\": [{\"x1\": 1.0, \"x2\": 1.0, \"name\": \"behaviors\", \"id\": 1, \"minimum\": 0.0, \"maximum\": 1.0, \"qp_lower\": 2.3282388261644582e-06, \"qp_upper\": -1.0}, {\"x1\": 0.0, \"x2\": 1.0, \"name\": \"population\", \"id\": 2, \"minimum\": 0.0, \"maximum\": 2.0, \"qp_lower\": -1.0, \"qp_upper\": 0.0053050108805884795}, {\"x1\": 1.0, \"x2\": 1.0, \"name\": \"behaviors\", \"id\": 2, \"minimum\": 0.0, \"maximum\": 1.0, \"qp_lower\": 1.0335608773546834e-06, \"qp_upper\": -1.0}, {\"x1\": 1.0, \"x2\": 1.0, \"name\": \"inequalities\", \"id\": 3, \"minimum\": 0.0, \"maximum\": 1.0, \"qp_lower\": 0.000977219127931685, \"qp_upper\": -1.0}, {\"x1\": 0.0, \"x2\": 1.0, \"name\": \"population\", \"id\": 3, \"minimum\": 0.0, \"maximum\": 2.0, \"qp_lower\": -1.0, \"qp_upper\": 0.005972420192480504}, {\"x1\": 1.0, \"x2\": 1.0, \"name\": \"behaviors\", \"id\": 3, \"minimum\": 0.0, \"maximum\": 1.0, \"qp_lower\": 1.469768735781625e-06, \"qp_upper\": -1.0}, {\"x1\": 1.0, \"x2\": 1.0, \"name\": \"inequalities\", \"id\": 4, \"minimum\": 0.0, \"maximum\": 1.0, \"qp_lower\": 0.003785542610549001, \"qp_upper\": -1.0}, {\"x1\": 1.0, \"x2\": 2.0, \"name\": \"convergence\", \"id\": 4, \"minimum\": 0.0, \"maximum\": 2.0, \"qp_lower\": 0.07219042578677633, \"qp_upper\": -1.0}, {\"x1\": 0.0, \"x2\": 1.0, \"name\": \"population\", \"id\": 4, \"minimum\": 0.0, \"maximum\": 2.0, \"qp_lower\": -1.0, \"qp_upper\": 0.008398575356226201}, {\"x1\": 1.0, \"x2\": 1.0, \"name\": \"behaviors\", \"id\": 4, \"minimum\": 0.0, \"maximum\": 1.0, \"qp_lower\": 3.4031943088371027e-06, \"qp_upper\": -1.0}, {\"x1\": 1.0, \"x2\": 1.0, \"name\": \"inequalities\", \"id\": 5, \"minimum\": 0.0, \"maximum\": 1.0, \"qp_lower\": 0.08236570519412031, \"qp_upper\": -1.0}, {\"x1\": 1.0, \"x2\": 2.0, \"name\": \"convergence\", \"id\": 5, \"minimum\": 0.0, \"maximum\": 2.0, \"qp_lower\": 0.32186915036588915, \"qp_upper\": -1.0}, {\"x1\": 0.0, \"x2\": 0.0, \"name\": \"population\", \"id\": 5, \"minimum\": 0.0, \"maximum\": 2.0, \"qp_lower\": -1.0, \"qp_upper\": 0.011071443574430165}, {\"x1\": 1.0, \"x2\": 1.0, \"name\": \"behaviors\", \"id\": 5, \"minimum\": 0.0, \"maximum\": 1.0, \"qp_lower\": 0.0009414028575075368, \"qp_upper\": -1.0}], \"data-bb8d07f6df3d47a6a475317795287b23\": [{\"end\": 1, \"start\": 0}], \"data-d751713988987e9331980363e24189ce\": []}}, {\"mode\": \"vega-lite\"});\n",
       "</script>"
      ],
      "text/plain": [
       "alt.VConcatChart(...)"
      ]
     },
     "execution_count": 4,
     "metadata": {},
     "output_type": "execute_result"
    }
   ],
   "source": [
    "from ema_workbench.analysis import prim\n",
    "from ema_workbench.util import ema_logging\n",
    "import matplotlib.pyplot as plt\n",
    "\n",
    "x = df_rozenberg.iloc[:,0:7] \n",
    "y = df_rozenberg.iloc[:,7].values >=1\n",
    "\n",
    "prim_alg = prim.Prim(x, y, threshold=0.8, peel_alpha=0.1)\n",
    "box1 = prim_alg.find_box()\n",
    "\n",
    "box1.show_tradeoff()\n",
    "print(box1.resample(3))\n",
    "box1.inspect(3)\n",
    "box1.inspect(3, style='graph')\n",
    "\n",
    "plt.show()\n",
    "box1.inspect_tradeoff()"
   ]
  },
  {
   "cell_type": "markdown",
   "metadata": {},
   "source": [
    "# SSP2"
   ]
  },
  {
   "cell_type": "code",
   "execution_count": 5,
   "metadata": {},
   "outputs": [
    {
     "name": "stdout",
     "output_type": "stream",
     "text": [
      "                 reproduce coverage  reproduce density\n",
      "behaviors                      70.0               90.0\n",
      "convergence                    70.0               60.0\n",
      "inequalities                   50.0               50.0\n",
      "population                     40.0               80.0\n",
      "technologies                   20.0                0.0\n",
      "capital markets                10.0               20.0\n",
      "fossils                        10.0               10.0\n",
      "coverage    0.464286\n",
      "density      0.40625\n",
      "id                 4\n",
      "mass        0.111888\n",
      "mean         0.40625\n",
      "res_dim            4\n",
      "Name: 4, dtype: object\n",
      "\n",
      "             box 4                                   \n",
      "               min  max                     qp values\n",
      "behaviors      0.0  0.0  [-1.0, 0.007952250065964422]\n",
      "convergence    0.0  1.0   [-1.0, 0.06752777747436578]\n",
      "population     0.0  1.0   [-1.0, 0.06752777747436578]\n",
      "inequalities   1.0  1.0   [0.02290405000582007, -1.0]\n",
      "\n"
     ]
    },
    {
     "data": {
      "image/png": "[encoded data removed]",
      "text/plain": [
       "<Figure size 432x288 with 2 Axes>"
      ]
     },
     "metadata": {
      "needs_background": "light"
     },
     "output_type": "display_data"
    },
    {
     "data": {
      "image/png": "[encoded data removed]",
      "text/plain": [
       "<Figure size 432x288 with 1 Axes>"
      ]
     },
     "metadata": {
      "needs_background": "light"
     },
     "output_type": "display_data"
    },
    {
     "data": {
      "text/html": [
       "\n",
       "<div id=\"altair-viz-c51ca499f7984da496ebff7f0585baa1\"></div>\n",
       "<script type=\"text/javascript\">\n",
       "  (function(spec, embedOpt){\n",
       "    let outputDiv = document.currentScript.previousElementSibling;\n",
       "    if (outputDiv.id !== \"altair-viz-c51ca499f7984da496ebff7f0585baa1\") {\n",
       "      outputDiv = document.getElementById(\"altair-viz-c51ca499f7984da496ebff7f0585baa1\");\n",
       "    }\n",
       "    const paths = {\n",
       "      \"vega\": \"https://cdn.jsdelivr.net/npm//vega@5?noext\",\n",
       "      \"vega-lib\": \"https://cdn.jsdelivr.net/npm//vega-lib?noext\",\n",
       "      \"vega-lite\": \"https://cdn.jsdelivr.net/npm//vega-lite@4.8.1?noext\",\n",
       "      \"vega-embed\": \"https://cdn.jsdelivr.net/npm//vega-embed@6?noext\",\n",
       "    };\n",
       "\n",
       "    function loadScript(lib) {\n",
       "      return new Promise(function(resolve, reject) {\n",
       "        var s = document.createElement('script');\n",
       "        s.src = paths[lib];\n",
       "        s.async = true;\n",
       "        s.onload = () => resolve(paths[lib]);\n",
       "        s.onerror = () => reject(`Error loading script: ${paths[lib]}`);\n",
       "        document.getElementsByTagName(\"head\")[0].appendChild(s);\n",
       "      });\n",
       "    }\n",
       "\n",
       "    function showError(err) {\n",
       "      outputDiv.innerHTML = `<div class=\"error\" style=\"color:red;\">${err}</div>`;\n",
       "      throw err;\n",
       "    }\n",
       "\n",
       "    function displayChart(vegaEmbed) {\n",
       "      vegaEmbed(outputDiv, spec, embedOpt)\n",
       "        .catch(err => showError(`Javascript Error: ${err.message}<br>This usually means there's a typo in your chart specification. See the javascript console for the full traceback.`));\n",
       "    }\n",
       "\n",
       "    if(typeof define === \"function\" && define.amd) {\n",
       "      requirejs.config({paths});\n",
       "      require([\"vega-embed\"], displayChart, err => showError(`Error loading script: ${err.message}`));\n",
       "    } else if (typeof vegaEmbed === \"function\") {\n",
       "      displayChart(vegaEmbed);\n",
       "    } else {\n",
       "      loadScript(\"vega\")\n",
       "        .then(() => loadScript(\"vega-lite\"))\n",
       "        .then(() => loadScript(\"vega-embed\"))\n",
       "        .catch(showError)\n",
       "        .then(() => displayChart(vegaEmbed));\n",
       "    }\n",
       "  })({\"config\": {\"view\": {\"continuousWidth\": 400, \"continuousHeight\": 300}}, \"vconcat\": [{\"data\": {\"name\": \"data-c844245fd77f4eb622a3183fd066d40f\"}, \"mark\": {\"type\": \"circle\", \"size\": 75}, \"encoding\": {\"color\": {\"type\": \"ordinal\", \"field\": \"res_dim\", \"scale\": {\"range\": [\"#eff9b6\", \"#d0edb3\", \"#97d6b9\", \"#5dc0c0\", \"#31a5c2\", \"#1f80b8\", \"#2354a3\", \"#21318d\"]}}, \"opacity\": {\"condition\": {\"value\": 1, \"selection\": \"selector002\"}, \"value\": 0.4}, \"tooltip\": [{\"type\": \"ordinal\", \"field\": \"id\"}, {\"type\": \"quantitative\", \"field\": \"coverage\", \"format\": \".2\"}, {\"type\": \"quantitative\", \"field\": \"density\", \"format\": \".2\"}, {\"type\": \"ordinal\", \"field\": \"res_dim\"}], \"x\": {\"type\": \"quantitative\", \"field\": \"coverage\"}, \"y\": {\"type\": \"quantitative\", \"field\": \"density\"}}, \"height\": 400, \"selection\": {\"selector002\": {\"type\": \"single\", \"fields\": [\"id\"]}}, \"width\": 400}, {\"layer\": [{\"data\": {\"name\": \"data-aede849c82bd578f056f2d474cb4fd1c\"}, \"mark\": \"rule\", \"encoding\": {\"x\": {\"type\": \"quantitative\", \"axis\": {\"grid\": false, \"labels\": false, \"title\": \"box limits\"}, \"field\": \"x_lower\", \"scale\": {\"domain\": [0, 1], \"padding\": 0.1}}, \"x2\": {\"field\": \"x_upper\"}, \"y\": {\"type\": \"nominal\", \"field\": \"name\", \"scale\": {\"padding\": 1.0}}}, \"transform\": [{\"calculate\": \"(datum.x1-datum.minimum)/(datum.maximum-datum.minimum)\", \"as\": \"x_lower\"}, {\"calculate\": \"(datum.x2-datum.minimum)/(datum.maximum-datum.minimum)\", \"as\": \"x_upper\"}, {\"filter\": {\"selection\": \"selector002\"}}], \"width\": 400}, {\"data\": {\"name\": \"data-aede849c82bd578f056f2d474cb4fd1c\"}, \"mark\": {\"type\": \"text\", \"align\": \"left\", \"baseline\": \"top\", \"dy\": 5}, \"encoding\": {\"text\": {\"type\": \"ordinal\", \"field\": \"text\"}, \"x\": {\"type\": \"quantitative\", \"axis\": {\"grid\": false, \"labels\": false, \"title\": \"box limits\"}, \"field\": \"x_lower\", \"scale\": {\"domain\": [0, 1], \"padding\": 0.1}}, \"x2\": {\"field\": \"x_upper\"}, \"y\": {\"type\": \"nominal\", \"field\": \"name\", \"scale\": {\"padding\": 1.0}}}, \"transform\": [{\"calculate\": \"(datum.x1-datum.minimum)/(datum.maximum-datum.minimum)\", \"as\": \"x_lower\"}, {\"calculate\": \"(datum.x2-datum.minimum)/(datum.maximum-datum.minimum)\", \"as\": \"x_upper\"}, {\"filter\": {\"selection\": \"selector002\"}}, {\"calculate\": \"datum.qp_lower>0?format(datum.x1, \\\".2\\\")+\\\" (\\\"+format(datum.qp_lower, \\\".1~g\\\")+\\\")\\\" :format(datum.x1, \\\".2\\\")\", \"as\": \"text\"}], \"width\": 400}, {\"data\": {\"name\": \"data-aede849c82bd578f056f2d474cb4fd1c\"}, \"mark\": {\"type\": \"text\", \"align\": \"right\", \"baseline\": \"top\", \"dy\": 5}, \"encoding\": {\"text\": {\"type\": \"ordinal\", \"field\": \"text\"}, \"x\": {\"type\": \"quantitative\", \"field\": \"x_upper\"}, \"x2\": {\"field\": \"x_upper\"}, \"y\": {\"type\": \"nominal\", \"field\": \"name\", \"scale\": {\"padding\": 1.0}}}, \"transform\": [{\"calculate\": \"(datum.x1-datum.minimum)/(datum.maximum-datum.minimum)\", \"as\": \"x_lower\"}, {\"calculate\": \"(datum.x2-datum.minimum)/(datum.maximum-datum.minimum)\", \"as\": \"x_upper\"}, {\"filter\": {\"selection\": \"selector002\"}}, {\"calculate\": \"datum.qp_upper>0?format(datum.x2, \\\".2\\\")+\\\" (\\\"+format(datum.qp_upper, \\\".1\\\")+\\\")\\\" :format(datum.x2, \\\".2\\\")\", \"as\": \"text\"}], \"width\": 400}, {\"data\": {\"name\": \"data-bb8d07f6df3d47a6a475317795287b23\"}, \"mark\": {\"type\": \"rect\", \"opacity\": 0.05}, \"encoding\": {\"x\": {\"type\": \"quantitative\", \"field\": \"start\"}, \"x2\": {\"field\": \"end\"}}}, {\"data\": {\"name\": \"data-d751713988987e9331980363e24189ce\"}, \"mark\": \"point\", \"encoding\": {\"x\": {\"type\": \"quantitative\", \"field\": \"x\"}, \"y\": {\"type\": \"nominal\", \"field\": \"name\"}}, \"transform\": [{\"filter\": {\"selection\": \"selector002\"}}], \"width\": 400}, {\"data\": {\"name\": \"data-d751713988987e9331980363e24189ce\"}, \"mark\": {\"type\": \"text\", \"align\": \"center\", \"baseline\": \"top\", \"dy\": 5}, \"encoding\": {\"text\": {\"type\": \"nominal\", \"field\": \"item\"}, \"x\": {\"type\": \"quantitative\", \"field\": \"x\"}, \"y\": {\"type\": \"nominal\", \"field\": \"name\"}}, \"transform\": [{\"filter\": {\"selection\": \"selector002\"}}], \"width\": 400}]}], \"$schema\": \"https://vega.github.io/schema/vega-lite/v4.8.1.json\", \"datasets\": {\"data-c844245fd77f4eb622a3183fd066d40f\": [{\"coverage\": 1.0, \"density\": 0.0979020979020979, \"id\": 0, \"mass\": 1.0, \"mean\": 0.0979020979020979, \"res_dim\": 0}, {\"coverage\": 0.8571428571428571, \"density\": 0.12631578947368421, \"id\": 1, \"mass\": 0.6643356643356644, \"mean\": 0.12631578947368421, \"res_dim\": 1}, {\"coverage\": 0.5714285714285714, \"density\": 0.16842105263157894, \"id\": 2, \"mass\": 0.3321678321678322, \"mean\": 0.16842105263157894, \"res_dim\": 2}, {\"coverage\": 0.4642857142857143, \"density\": 0.2708333333333333, \"id\": 3, \"mass\": 0.16783216783216784, \"mean\": 0.2708333333333333, \"res_dim\": 3}, {\"coverage\": 0.4642857142857143, \"density\": 0.40625, \"id\": 4, \"mass\": 0.11188811188811189, \"mean\": 0.40625, \"res_dim\": 4}, {\"coverage\": 0.32142857142857145, \"density\": 0.5625, \"id\": 5, \"mass\": 0.055944055944055944, \"mean\": 0.5625, \"res_dim\": 4}], \"data-aede849c82bd578f056f2d474cb4fd1c\": [{\"x1\": 0.0, \"x2\": 1.0, \"name\": \"convergence\", \"id\": 1, \"minimum\": 0.0, \"maximum\": 2.0, \"qp_lower\": -1.0, \"qp_upper\": 0.11801663138085793}, {\"x1\": 1.0, \"x2\": 1.0, \"name\": \"inequalities\", \"id\": 2, \"minimum\": 0.0, \"maximum\": 1.0, \"qp_lower\": 0.14063844785656618, \"qp_upper\": -1.0}, {\"x1\": 0.0, \"x2\": 1.0, \"name\": \"convergence\", \"id\": 2, \"minimum\": 0.0, \"maximum\": 2.0, \"qp_lower\": -1.0, \"qp_upper\": 0.06236019447023799}, {\"x1\": 1.0, \"x2\": 1.0, \"name\": \"inequalities\", \"id\": 3, \"minimum\": 0.0, \"maximum\": 1.0, \"qp_lower\": 0.029528663745566563, \"qp_upper\": -1.0}, {\"x1\": 0.0, \"x2\": 1.0, \"name\": \"convergence\", \"id\": 3, \"minimum\": 0.0, \"maximum\": 2.0, \"qp_lower\": -1.0, \"qp_upper\": 0.07989762230737824}, {\"x1\": 0.0, \"x2\": 0.0, \"name\": \"behaviors\", \"id\": 3, \"minimum\": 0.0, \"maximum\": 1.0, \"qp_lower\": -1.0, \"qp_upper\": 0.0503492128452746}, {\"x1\": 1.0, \"x2\": 1.0, \"name\": \"inequalities\", \"id\": 4, \"minimum\": 0.0, \"maximum\": 1.0, \"qp_lower\": 0.02290405000582007, \"qp_upper\": -1.0}, {\"x1\": 0.0, \"x2\": 1.0, \"name\": \"convergence\", \"id\": 4, \"minimum\": 0.0, \"maximum\": 2.0, \"qp_lower\": -1.0, \"qp_upper\": 0.06752777747436578}, {\"x1\": 0.0, \"x2\": 1.0, \"name\": \"population\", \"id\": 4, \"minimum\": 0.0, \"maximum\": 2.0, \"qp_lower\": -1.0, \"qp_upper\": 0.06752777747436578}, {\"x1\": 0.0, \"x2\": 0.0, \"name\": \"behaviors\", \"id\": 4, \"minimum\": 0.0, \"maximum\": 1.0, \"qp_lower\": -1.0, \"qp_upper\": 0.007952250065964422}, {\"x1\": 1.0, \"x2\": 1.0, \"name\": \"inequalities\", \"id\": 5, \"minimum\": 0.0, \"maximum\": 1.0, \"qp_lower\": 0.06021846943525107, \"qp_upper\": -1.0}, {\"x1\": 0.0, \"x2\": 1.0, \"name\": \"convergence\", \"id\": 5, \"minimum\": 0.0, \"maximum\": 2.0, \"qp_lower\": -1.0, \"qp_upper\": 0.09993748242742488}, {\"x1\": 0.0, \"x2\": 0.0, \"name\": \"population\", \"id\": 5, \"minimum\": 0.0, \"maximum\": 2.0, \"qp_lower\": -1.0, \"qp_upper\": 0.0129930355162259}, {\"x1\": 0.0, \"x2\": 0.0, \"name\": \"behaviors\", \"id\": 5, \"minimum\": 0.0, \"maximum\": 1.0, \"qp_lower\": -1.0, \"qp_upper\": 0.016766054367329357}], \"data-bb8d07f6df3d47a6a475317795287b23\": [{\"end\": 1, \"start\": 0}], \"data-d751713988987e9331980363e24189ce\": []}}, {\"mode\": \"vega-lite\"});\n",
       "</script>"
      ],
      "text/plain": [
       "alt.VConcatChart(...)"
      ]
     },
     "execution_count": 5,
     "metadata": {},
     "output_type": "execute_result"
    }
   ],
   "source": [
    "from ema_workbench.analysis import prim\n",
    "from ema_workbench.util import ema_logging\n",
    "import matplotlib.pyplot as plt\n",
    "\n",
    "x = df_rozenberg.iloc[:,0:7] \n",
    "y = df_rozenberg.iloc[:,8].values >=1\n",
    "\n",
    "prim_alg = prim.Prim(x, y, threshold=0.55, peel_alpha=0.05)\n",
    "box1 = prim_alg.find_box()\n",
    "\n",
    "box1.show_tradeoff()\n",
    "print(box1.resample(4))\n",
    "box1.inspect(4)\n",
    "box1.inspect(4, style='graph')\n",
    "\n",
    "plt.show()\n",
    "box1.inspect_tradeoff()"
   ]
  },
  {
   "cell_type": "markdown",
   "metadata": {},
   "source": [
    "# SSP3"
   ]
  },
  {
   "cell_type": "code",
   "execution_count": 6,
   "metadata": {},
   "outputs": [
    {
     "name": "stdout",
     "output_type": "stream",
     "text": [
      "                 reproduce coverage  reproduce density\n",
      "behaviors                     100.0              100.0\n",
      "inequalities                   70.0               70.0\n",
      "population                     60.0              100.0\n",
      "technologies                   30.0               30.0\n",
      "convergence                     0.0                0.0\n",
      "fossils                         0.0                0.0\n",
      "capital markets                 0.0                0.0\n",
      "coverage         0.8\n",
      "density     0.666667\n",
      "id                 3\n",
      "mass        0.167832\n",
      "mean        0.666667\n",
      "res_dim            3\n",
      "Name: 3, dtype: object\n",
      "\n",
      "             box 3                                     \n",
      "               min  max                       qp values\n",
      "behaviors      0.0  0.0   [-1.0, 3.130396509639097e-06]\n",
      "inequalities   0.0  0.0  [-1.0, 0.00023925686322256464]\n",
      "population     1.0  2.0    [0.002914918307607955, -1.0]\n",
      "\n"
     ]
    },
    {
     "data": {
      "image/png": "[encoded data removed]",
      "text/plain": [
       "<Figure size 432x288 with 2 Axes>"
      ]
     },
     "metadata": {
      "needs_background": "light"
     },
     "output_type": "display_data"
    },
    {
     "data": {
      "image/png": "[encoded data removed]",
      "text/plain": [
       "<Figure size 432x288 with 1 Axes>"
      ]
     },
     "metadata": {
      "needs_background": "light"
     },
     "output_type": "display_data"
    },
    {
     "data": {
      "text/html": [
       "\n",
       "<div id=\"altair-viz-193c8875d1ad4cd5a9abbb5d18ffa21b\"></div>\n",
       "<script type=\"text/javascript\">\n",
       "  (function(spec, embedOpt){\n",
       "    let outputDiv = document.currentScript.previousElementSibling;\n",
       "    if (outputDiv.id !== \"altair-viz-193c8875d1ad4cd5a9abbb5d18ffa21b\") {\n",
       "      outputDiv = document.getElementById(\"altair-viz-193c8875d1ad4cd5a9abbb5d18ffa21b\");\n",
       "    }\n",
       "    const paths = {\n",
       "      \"vega\": \"https://cdn.jsdelivr.net/npm//vega@5?noext\",\n",
       "      \"vega-lib\": \"https://cdn.jsdelivr.net/npm//vega-lib?noext\",\n",
       "      \"vega-lite\": \"https://cdn.jsdelivr.net/npm//vega-lite@4.8.1?noext\",\n",
       "      \"vega-embed\": \"https://cdn.jsdelivr.net/npm//vega-embed@6?noext\",\n",
       "    };\n",
       "\n",
       "    function loadScript(lib) {\n",
       "      return new Promise(function(resolve, reject) {\n",
       "        var s = document.createElement('script');\n",
       "        s.src = paths[lib];\n",
       "        s.async = true;\n",
       "        s.onload = () => resolve(paths[lib]);\n",
       "        s.onerror = () => reject(`Error loading script: ${paths[lib]}`);\n",
       "        document.getElementsByTagName(\"head\")[0].appendChild(s);\n",
       "      });\n",
       "    }\n",
       "\n",
       "    function showError(err) {\n",
       "      outputDiv.innerHTML = `<div class=\"error\" style=\"color:red;\">${err}</div>`;\n",
       "      throw err;\n",
       "    }\n",
       "\n",
       "    function displayChart(vegaEmbed) {\n",
       "      vegaEmbed(outputDiv, spec, embedOpt)\n",
       "        .catch(err => showError(`Javascript Error: ${err.message}<br>This usually means there's a typo in your chart specification. See the javascript console for the full traceback.`));\n",
       "    }\n",
       "\n",
       "    if(typeof define === \"function\" && define.amd) {\n",
       "      requirejs.config({paths});\n",
       "      require([\"vega-embed\"], displayChart, err => showError(`Error loading script: ${err.message}`));\n",
       "    } else if (typeof vegaEmbed === \"function\") {\n",
       "      displayChart(vegaEmbed);\n",
       "    } else {\n",
       "      loadScript(\"vega\")\n",
       "        .then(() => loadScript(\"vega-lite\"))\n",
       "        .then(() => loadScript(\"vega-embed\"))\n",
       "        .catch(showError)\n",
       "        .then(() => displayChart(vegaEmbed));\n",
       "    }\n",
       "  })({\"config\": {\"view\": {\"continuousWidth\": 400, \"continuousHeight\": 300}}, \"vconcat\": [{\"data\": {\"name\": \"data-f25522c9fac4a278de6c2a02f369493c\"}, \"mark\": {\"type\": \"circle\", \"size\": 75}, \"encoding\": {\"color\": {\"type\": \"ordinal\", \"field\": \"res_dim\", \"scale\": {\"range\": [\"#eff9b6\", \"#d0edb3\", \"#97d6b9\", \"#5dc0c0\", \"#31a5c2\", \"#1f80b8\", \"#2354a3\", \"#21318d\"]}}, \"opacity\": {\"condition\": {\"value\": 1, \"selection\": \"selector003\"}, \"value\": 0.4}, \"tooltip\": [{\"type\": \"ordinal\", \"field\": \"id\"}, {\"type\": \"quantitative\", \"field\": \"coverage\", \"format\": \".2\"}, {\"type\": \"quantitative\", \"field\": \"density\", \"format\": \".2\"}, {\"type\": \"ordinal\", \"field\": \"res_dim\"}], \"x\": {\"type\": \"quantitative\", \"field\": \"coverage\"}, \"y\": {\"type\": \"quantitative\", \"field\": \"density\"}}, \"height\": 400, \"selection\": {\"selector003\": {\"type\": \"single\", \"fields\": [\"id\"]}}, \"width\": 400}, {\"layer\": [{\"data\": {\"name\": \"data-53aad2132bd1da7c9c6cc49dcf12cfbf\"}, \"mark\": \"rule\", \"encoding\": {\"x\": {\"type\": \"quantitative\", \"axis\": {\"grid\": false, \"labels\": false, \"title\": \"box limits\"}, \"field\": \"x_lower\", \"scale\": {\"domain\": [0, 1], \"padding\": 0.1}}, \"x2\": {\"field\": \"x_upper\"}, \"y\": {\"type\": \"nominal\", \"field\": \"name\", \"scale\": {\"padding\": 1.0}}}, \"transform\": [{\"calculate\": \"(datum.x1-datum.minimum)/(datum.maximum-datum.minimum)\", \"as\": \"x_lower\"}, {\"calculate\": \"(datum.x2-datum.minimum)/(datum.maximum-datum.minimum)\", \"as\": \"x_upper\"}, {\"filter\": {\"selection\": \"selector003\"}}], \"width\": 400}, {\"data\": {\"name\": \"data-53aad2132bd1da7c9c6cc49dcf12cfbf\"}, \"mark\": {\"type\": \"text\", \"align\": \"left\", \"baseline\": \"top\", \"dy\": 5}, \"encoding\": {\"text\": {\"type\": \"ordinal\", \"field\": \"text\"}, \"x\": {\"type\": \"quantitative\", \"axis\": {\"grid\": false, \"labels\": false, \"title\": \"box limits\"}, \"field\": \"x_lower\", \"scale\": {\"domain\": [0, 1], \"padding\": 0.1}}, \"x2\": {\"field\": \"x_upper\"}, \"y\": {\"type\": \"nominal\", \"field\": \"name\", \"scale\": {\"padding\": 1.0}}}, \"transform\": [{\"calculate\": \"(datum.x1-datum.minimum)/(datum.maximum-datum.minimum)\", \"as\": \"x_lower\"}, {\"calculate\": \"(datum.x2-datum.minimum)/(datum.maximum-datum.minimum)\", \"as\": \"x_upper\"}, {\"filter\": {\"selection\": \"selector003\"}}, {\"calculate\": \"datum.qp_lower>0?format(datum.x1, \\\".2\\\")+\\\" (\\\"+format(datum.qp_lower, \\\".1~g\\\")+\\\")\\\" :format(datum.x1, \\\".2\\\")\", \"as\": \"text\"}], \"width\": 400}, {\"data\": {\"name\": \"data-53aad2132bd1da7c9c6cc49dcf12cfbf\"}, \"mark\": {\"type\": \"text\", \"align\": \"right\", \"baseline\": \"top\", \"dy\": 5}, \"encoding\": {\"text\": {\"type\": \"ordinal\", \"field\": \"text\"}, \"x\": {\"type\": \"quantitative\", \"field\": \"x_upper\"}, \"x2\": {\"field\": \"x_upper\"}, \"y\": {\"type\": \"nominal\", \"field\": \"name\", \"scale\": {\"padding\": 1.0}}}, \"transform\": [{\"calculate\": \"(datum.x1-datum.minimum)/(datum.maximum-datum.minimum)\", \"as\": \"x_lower\"}, {\"calculate\": \"(datum.x2-datum.minimum)/(datum.maximum-datum.minimum)\", \"as\": \"x_upper\"}, {\"filter\": {\"selection\": \"selector003\"}}, {\"calculate\": \"datum.qp_upper>0?format(datum.x2, \\\".2\\\")+\\\" (\\\"+format(datum.qp_upper, \\\".1\\\")+\\\")\\\" :format(datum.x2, \\\".2\\\")\", \"as\": \"text\"}], \"width\": 400}, {\"data\": {\"name\": \"data-bb8d07f6df3d47a6a475317795287b23\"}, \"mark\": {\"type\": \"rect\", \"opacity\": 0.05}, \"encoding\": {\"x\": {\"type\": \"quantitative\", \"field\": \"start\"}, \"x2\": {\"field\": \"end\"}}}, {\"data\": {\"name\": \"data-d751713988987e9331980363e24189ce\"}, \"mark\": \"point\", \"encoding\": {\"x\": {\"type\": \"quantitative\", \"field\": \"x\"}, \"y\": {\"type\": \"nominal\", \"field\": \"name\"}}, \"transform\": [{\"filter\": {\"selection\": \"selector003\"}}], \"width\": 400}, {\"data\": {\"name\": \"data-d751713988987e9331980363e24189ce\"}, \"mark\": {\"type\": \"text\", \"align\": \"center\", \"baseline\": \"top\", \"dy\": 5}, \"encoding\": {\"text\": {\"type\": \"nominal\", \"field\": \"item\"}, \"x\": {\"type\": \"quantitative\", \"field\": \"x\"}, \"y\": {\"type\": \"nominal\", \"field\": \"name\"}}, \"transform\": [{\"filter\": {\"selection\": \"selector003\"}}], \"width\": 400}]}], \"$schema\": \"https://vega.github.io/schema/vega-lite/v4.8.1.json\", \"datasets\": {\"data-f25522c9fac4a278de6c2a02f369493c\": [{\"coverage\": 1.0, \"density\": 0.13986013986013987, \"id\": 0, \"mass\": 1.0, \"mean\": 0.13986013986013987, \"res_dim\": 0}, {\"coverage\": 1.0, \"density\": 0.2777777777777778, \"id\": 1, \"mass\": 0.5034965034965035, \"mean\": 0.2777777777777778, \"res_dim\": 1}, {\"coverage\": 0.975, \"density\": 0.40625, \"id\": 2, \"mass\": 0.3356643356643357, \"mean\": 0.40625, \"res_dim\": 2}, {\"coverage\": 0.8, \"density\": 0.6666666666666666, \"id\": 3, \"mass\": 0.16783216783216784, \"mean\": 0.6666666666666666, \"res_dim\": 3}, {\"coverage\": 0.55, \"density\": 0.9166666666666666, \"id\": 4, \"mass\": 0.08391608391608392, \"mean\": 0.9166666666666666, \"res_dim\": 4}], \"data-53aad2132bd1da7c9c6cc49dcf12cfbf\": [{\"x1\": 0.0, \"x2\": 0.0, \"name\": \"behaviors\", \"id\": 1, \"minimum\": 0.0, \"maximum\": 1.0, \"qp_lower\": -1.0, \"qp_upper\": 1.1678128910985648e-05}, {\"x1\": 1.0, \"x2\": 2.0, \"name\": \"population\", \"id\": 2, \"minimum\": 0.0, \"maximum\": 2.0, \"qp_lower\": 0.004481112142620738, \"qp_upper\": -1.0}, {\"x1\": 0.0, \"x2\": 0.0, \"name\": \"behaviors\", \"id\": 2, \"minimum\": 0.0, \"maximum\": 1.0, \"qp_lower\": -1.0, \"qp_upper\": 5.830014202565754e-06}, {\"x1\": 0.0, \"x2\": 0.0, \"name\": \"inequalities\", \"id\": 3, \"minimum\": 0.0, \"maximum\": 1.0, \"qp_lower\": -1.0, \"qp_upper\": 0.00023925686322256464}, {\"x1\": 1.0, \"x2\": 2.0, \"name\": \"population\", \"id\": 3, \"minimum\": 0.0, \"maximum\": 2.0, \"qp_lower\": 0.002914918307607955, \"qp_upper\": -1.0}, {\"x1\": 0.0, \"x2\": 0.0, \"name\": \"behaviors\", \"id\": 3, \"minimum\": 0.0, \"maximum\": 1.0, \"qp_lower\": -1.0, \"qp_upper\": 3.130396509639097e-06}, {\"x1\": 0.0, \"x2\": 0.0, \"name\": \"inequalities\", \"id\": 4, \"minimum\": 0.0, \"maximum\": 1.0, \"qp_lower\": -1.0, \"qp_upper\": 0.0007563634621240565}, {\"x1\": 1.0, \"x2\": 2.0, \"name\": \"population\", \"id\": 4, \"minimum\": 0.0, \"maximum\": 2.0, \"qp_lower\": 0.0021975761425310184, \"qp_upper\": -1.0}, {\"x1\": 0.0, \"x2\": 0.0, \"name\": \"behaviors\", \"id\": 4, \"minimum\": 0.0, \"maximum\": 1.0, \"qp_lower\": -1.0, \"qp_upper\": 4.708610254878667e-06}, {\"x1\": 0.0, \"x2\": 0.0, \"name\": \"technologies\", \"id\": 4, \"minimum\": 0.0, \"maximum\": 1.0, \"qp_lower\": -1.0, \"qp_upper\": 0.004871061749211022}], \"data-bb8d07f6df3d47a6a475317795287b23\": [{\"end\": 1, \"start\": 0}], \"data-d751713988987e9331980363e24189ce\": []}}, {\"mode\": \"vega-lite\"});\n",
       "</script>"
      ],
      "text/plain": [
       "alt.VConcatChart(...)"
      ]
     },
     "execution_count": 6,
     "metadata": {},
     "output_type": "execute_result"
    }
   ],
   "source": [
    "from ema_workbench.analysis import prim\n",
    "from ema_workbench.util import ema_logging\n",
    "import matplotlib.pyplot as plt\n",
    "\n",
    "x = df_rozenberg.iloc[:,0:7] \n",
    "y = df_rozenberg.iloc[:,9].values >=1\n",
    "\n",
    "prim_alg = prim.Prim(x, y, threshold=0.8, peel_alpha=0.1)\n",
    "box1 = prim_alg.find_box()\n",
    "\n",
    "box1.show_tradeoff()\n",
    "print(box1.resample(3))\n",
    "box1.inspect(3)\n",
    "box1.inspect(3, style='graph')\n",
    "\n",
    "plt.show()\n",
    "box1.inspect_tradeoff()"
   ]
  },
  {
   "cell_type": "markdown",
   "metadata": {},
   "source": [
    "# SSP4"
   ]
  },
  {
   "cell_type": "code",
   "execution_count": 7,
   "metadata": {},
   "outputs": [
    {
     "name": "stdout",
     "output_type": "stream",
     "text": [
      "                 reproduce coverage  reproduce density\n",
      "behaviors                      70.0              100.0\n",
      "inequalities                   60.0              100.0\n",
      "convergence                    20.0              100.0\n",
      "population                      0.0                0.0\n",
      "technologies                    0.0                0.0\n",
      "fossils                         0.0                0.0\n",
      "capital markets                 0.0                0.0\n",
      "coverage     0.913043\n",
      "density         0.875\n",
      "id                  4\n",
      "mass        0.0839161\n",
      "mean            0.875\n",
      "res_dim             3\n",
      "Name: 4, dtype: object\n",
      "\n",
      "             box 4                                     \n",
      "               min  max                       qp values\n",
      "convergence    0.0  0.0  [-1.0, 5.8154822275538926e-09]\n",
      "inequalities   0.0  0.0  [-1.0, 1.1582287777091569e-05]\n",
      "behaviors      1.0  1.0   [6.336598320679067e-05, -1.0]\n",
      "\n"
     ]
    },
    {
     "data": {
      "image/png": "[encoded data removed]",
      "text/plain": [
       "<Figure size 432x288 with 2 Axes>"
      ]
     },
     "metadata": {
      "needs_background": "light"
     },
     "output_type": "display_data"
    },
    {
     "data": {
      "image/png": "[encoded data removed]",
      "text/plain": [
       "<Figure size 432x288 with 1 Axes>"
      ]
     },
     "metadata": {
      "needs_background": "light"
     },
     "output_type": "display_data"
    },
    {
     "data": {
      "text/html": [
       "\n",
       "<div id=\"altair-viz-f9577df5ca024ceeb9282f3f434b45b0\"></div>\n",
       "<script type=\"text/javascript\">\n",
       "  (function(spec, embedOpt){\n",
       "    let outputDiv = document.currentScript.previousElementSibling;\n",
       "    if (outputDiv.id !== \"altair-viz-f9577df5ca024ceeb9282f3f434b45b0\") {\n",
       "      outputDiv = document.getElementById(\"altair-viz-f9577df5ca024ceeb9282f3f434b45b0\");\n",
       "    }\n",
       "    const paths = {\n",
       "      \"vega\": \"https://cdn.jsdelivr.net/npm//vega@5?noext\",\n",
       "      \"vega-lib\": \"https://cdn.jsdelivr.net/npm//vega-lib?noext\",\n",
       "      \"vega-lite\": \"https://cdn.jsdelivr.net/npm//vega-lite@4.8.1?noext\",\n",
       "      \"vega-embed\": \"https://cdn.jsdelivr.net/npm//vega-embed@6?noext\",\n",
       "    };\n",
       "\n",
       "    function loadScript(lib) {\n",
       "      return new Promise(function(resolve, reject) {\n",
       "        var s = document.createElement('script');\n",
       "        s.src = paths[lib];\n",
       "        s.async = true;\n",
       "        s.onload = () => resolve(paths[lib]);\n",
       "        s.onerror = () => reject(`Error loading script: ${paths[lib]}`);\n",
       "        document.getElementsByTagName(\"head\")[0].appendChild(s);\n",
       "      });\n",
       "    }\n",
       "\n",
       "    function showError(err) {\n",
       "      outputDiv.innerHTML = `<div class=\"error\" style=\"color:red;\">${err}</div>`;\n",
       "      throw err;\n",
       "    }\n",
       "\n",
       "    function displayChart(vegaEmbed) {\n",
       "      vegaEmbed(outputDiv, spec, embedOpt)\n",
       "        .catch(err => showError(`Javascript Error: ${err.message}<br>This usually means there's a typo in your chart specification. See the javascript console for the full traceback.`));\n",
       "    }\n",
       "\n",
       "    if(typeof define === \"function\" && define.amd) {\n",
       "      requirejs.config({paths});\n",
       "      require([\"vega-embed\"], displayChart, err => showError(`Error loading script: ${err.message}`));\n",
       "    } else if (typeof vegaEmbed === \"function\") {\n",
       "      displayChart(vegaEmbed);\n",
       "    } else {\n",
       "      loadScript(\"vega\")\n",
       "        .then(() => loadScript(\"vega-lite\"))\n",
       "        .then(() => loadScript(\"vega-embed\"))\n",
       "        .catch(showError)\n",
       "        .then(() => displayChart(vegaEmbed));\n",
       "    }\n",
       "  })({\"config\": {\"view\": {\"continuousWidth\": 400, \"continuousHeight\": 300}}, \"vconcat\": [{\"data\": {\"name\": \"data-0ae69af40f66dd131ecb6ef9ad39eedc\"}, \"mark\": {\"type\": \"circle\", \"size\": 75}, \"encoding\": {\"color\": {\"type\": \"ordinal\", \"field\": \"res_dim\", \"scale\": {\"range\": [\"#eff9b6\", \"#d0edb3\", \"#97d6b9\", \"#5dc0c0\", \"#31a5c2\", \"#1f80b8\", \"#2354a3\", \"#21318d\"]}}, \"opacity\": {\"condition\": {\"value\": 1, \"selection\": \"selector004\"}, \"value\": 0.4}, \"tooltip\": [{\"type\": \"ordinal\", \"field\": \"id\"}, {\"type\": \"quantitative\", \"field\": \"coverage\", \"format\": \".2\"}, {\"type\": \"quantitative\", \"field\": \"density\", \"format\": \".2\"}, {\"type\": \"ordinal\", \"field\": \"res_dim\"}], \"x\": {\"type\": \"quantitative\", \"field\": \"coverage\"}, \"y\": {\"type\": \"quantitative\", \"field\": \"density\"}}, \"height\": 400, \"selection\": {\"selector004\": {\"type\": \"single\", \"fields\": [\"id\"]}}, \"width\": 400}, {\"layer\": [{\"data\": {\"name\": \"data-8781c1ff7b30627a7f3b6598216f6a4d\"}, \"mark\": \"rule\", \"encoding\": {\"x\": {\"type\": \"quantitative\", \"axis\": {\"grid\": false, \"labels\": false, \"title\": \"box limits\"}, \"field\": \"x_lower\", \"scale\": {\"domain\": [0, 1], \"padding\": 0.1}}, \"x2\": {\"field\": \"x_upper\"}, \"y\": {\"type\": \"nominal\", \"field\": \"name\", \"scale\": {\"padding\": 1.0}}}, \"transform\": [{\"calculate\": \"(datum.x1-datum.minimum)/(datum.maximum-datum.minimum)\", \"as\": \"x_lower\"}, {\"calculate\": \"(datum.x2-datum.minimum)/(datum.maximum-datum.minimum)\", \"as\": \"x_upper\"}, {\"filter\": {\"selection\": \"selector004\"}}], \"width\": 400}, {\"data\": {\"name\": \"data-8781c1ff7b30627a7f3b6598216f6a4d\"}, \"mark\": {\"type\": \"text\", \"align\": \"left\", \"baseline\": \"top\", \"dy\": 5}, \"encoding\": {\"text\": {\"type\": \"ordinal\", \"field\": \"text\"}, \"x\": {\"type\": \"quantitative\", \"axis\": {\"grid\": false, \"labels\": false, \"title\": \"box limits\"}, \"field\": \"x_lower\", \"scale\": {\"domain\": [0, 1], \"padding\": 0.1}}, \"x2\": {\"field\": \"x_upper\"}, \"y\": {\"type\": \"nominal\", \"field\": \"name\", \"scale\": {\"padding\": 1.0}}}, \"transform\": [{\"calculate\": \"(datum.x1-datum.minimum)/(datum.maximum-datum.minimum)\", \"as\": \"x_lower\"}, {\"calculate\": \"(datum.x2-datum.minimum)/(datum.maximum-datum.minimum)\", \"as\": \"x_upper\"}, {\"filter\": {\"selection\": \"selector004\"}}, {\"calculate\": \"datum.qp_lower>0?format(datum.x1, \\\".2\\\")+\\\" (\\\"+format(datum.qp_lower, \\\".1~g\\\")+\\\")\\\" :format(datum.x1, \\\".2\\\")\", \"as\": \"text\"}], \"width\": 400}, {\"data\": {\"name\": \"data-8781c1ff7b30627a7f3b6598216f6a4d\"}, \"mark\": {\"type\": \"text\", \"align\": \"right\", \"baseline\": \"top\", \"dy\": 5}, \"encoding\": {\"text\": {\"type\": \"ordinal\", \"field\": \"text\"}, \"x\": {\"type\": \"quantitative\", \"field\": \"x_upper\"}, \"x2\": {\"field\": \"x_upper\"}, \"y\": {\"type\": \"nominal\", \"field\": \"name\", \"scale\": {\"padding\": 1.0}}}, \"transform\": [{\"calculate\": \"(datum.x1-datum.minimum)/(datum.maximum-datum.minimum)\", \"as\": \"x_lower\"}, {\"calculate\": \"(datum.x2-datum.minimum)/(datum.maximum-datum.minimum)\", \"as\": \"x_upper\"}, {\"filter\": {\"selection\": \"selector004\"}}, {\"calculate\": \"datum.qp_upper>0?format(datum.x2, \\\".2\\\")+\\\" (\\\"+format(datum.qp_upper, \\\".1\\\")+\\\")\\\" :format(datum.x2, \\\".2\\\")\", \"as\": \"text\"}], \"width\": 400}, {\"data\": {\"name\": \"data-bb8d07f6df3d47a6a475317795287b23\"}, \"mark\": {\"type\": \"rect\", \"opacity\": 0.05}, \"encoding\": {\"x\": {\"type\": \"quantitative\", \"field\": \"start\"}, \"x2\": {\"field\": \"end\"}}}, {\"data\": {\"name\": \"data-d751713988987e9331980363e24189ce\"}, \"mark\": \"point\", \"encoding\": {\"x\": {\"type\": \"quantitative\", \"field\": \"x\"}, \"y\": {\"type\": \"nominal\", \"field\": \"name\"}}, \"transform\": [{\"filter\": {\"selection\": \"selector004\"}}], \"width\": 400}, {\"data\": {\"name\": \"data-d751713988987e9331980363e24189ce\"}, \"mark\": {\"type\": \"text\", \"align\": \"center\", \"baseline\": \"top\", \"dy\": 5}, \"encoding\": {\"text\": {\"type\": \"nominal\", \"field\": \"item\"}, \"x\": {\"type\": \"quantitative\", \"field\": \"x\"}, \"y\": {\"type\": \"nominal\", \"field\": \"name\"}}, \"transform\": [{\"filter\": {\"selection\": \"selector004\"}}], \"width\": 400}]}], \"$schema\": \"https://vega.github.io/schema/vega-lite/v4.8.1.json\", \"datasets\": {\"data-0ae69af40f66dd131ecb6ef9ad39eedc\": [{\"coverage\": 1.0, \"density\": 0.08041958041958042, \"id\": 0, \"mass\": 1.0, \"mean\": 0.08041958041958042, \"res_dim\": 0}, {\"coverage\": 1.0, \"density\": 0.16083916083916083, \"id\": 1, \"mass\": 0.5, \"mean\": 0.16083916083916083, \"res_dim\": 1}, {\"coverage\": 0.9130434782608695, \"density\": 0.29577464788732394, \"id\": 2, \"mass\": 0.24825174825174826, \"mean\": 0.29577464788732394, \"res_dim\": 2}, {\"coverage\": 0.9130434782608695, \"density\": 0.44680851063829785, \"id\": 3, \"mass\": 0.16433566433566432, \"mean\": 0.44680851063829785, \"res_dim\": 3}, {\"coverage\": 0.9130434782608695, \"density\": 0.875, \"id\": 4, \"mass\": 0.08391608391608392, \"mean\": 0.875, \"res_dim\": 3}, {\"coverage\": 0.6956521739130435, \"density\": 1.0, \"id\": 5, \"mass\": 0.055944055944055944, \"mean\": 1.0, \"res_dim\": 4}], \"data-8781c1ff7b30627a7f3b6598216f6a4d\": [{\"x1\": 0.0, \"x2\": 0.0, \"name\": \"inequalities\", \"id\": 1, \"minimum\": 0.0, \"maximum\": 1.0, \"qp_lower\": -1.0, \"qp_upper\": 0.001099470681501736}, {\"x1\": 0.0, \"x2\": 0.0, \"name\": \"inequalities\", \"id\": 2, \"minimum\": 0.0, \"maximum\": 1.0, \"qp_lower\": -1.0, \"qp_upper\": 0.0010956783523010452}, {\"x1\": 1.0, \"x2\": 1.0, \"name\": \"behaviors\", \"id\": 2, \"minimum\": 0.0, \"maximum\": 1.0, \"qp_lower\": 0.0031611189799638857, \"qp_upper\": -1.0}, {\"x1\": 0.0, \"x2\": 0.0, \"name\": \"inequalities\", \"id\": 3, \"minimum\": 0.0, \"maximum\": 1.0, \"qp_lower\": -1.0, \"qp_upper\": 0.00039084764494356724}, {\"x1\": 0.0, \"x2\": 1.0, \"name\": \"convergence\", \"id\": 3, \"minimum\": 0.0, \"maximum\": 2.0, \"qp_lower\": -1.0, \"qp_upper\": 0.015271053706327229}, {\"x1\": 1.0, \"x2\": 1.0, \"name\": \"behaviors\", \"id\": 3, \"minimum\": 0.0, \"maximum\": 1.0, \"qp_lower\": 0.0012077782200193158, \"qp_upper\": -1.0}, {\"x1\": 0.0, \"x2\": 0.0, \"name\": \"inequalities\", \"id\": 4, \"minimum\": 0.0, \"maximum\": 1.0, \"qp_lower\": -1.0, \"qp_upper\": 1.1582287777091569e-05}, {\"x1\": 0.0, \"x2\": 0.0, \"name\": \"convergence\", \"id\": 4, \"minimum\": 0.0, \"maximum\": 2.0, \"qp_lower\": -1.0, \"qp_upper\": 5.8154822275538926e-09}, {\"x1\": 1.0, \"x2\": 1.0, \"name\": \"behaviors\", \"id\": 4, \"minimum\": 0.0, \"maximum\": 1.0, \"qp_lower\": 6.336598320679067e-05, \"qp_upper\": -1.0}, {\"x1\": 0.0, \"x2\": 0.0, \"name\": \"inequalities\", \"id\": 5, \"minimum\": 0.0, \"maximum\": 1.0, \"qp_lower\": -1.0, \"qp_upper\": 1.52587890625e-05}, {\"x1\": 0.0, \"x2\": 0.0, \"name\": \"convergence\", \"id\": 5, \"minimum\": 0.0, \"maximum\": 2.0, \"qp_lower\": -1.0, \"qp_upper\": 3.2535238562949594e-08}, {\"x1\": 0.0, \"x2\": 1.0, \"name\": \"population\", \"id\": 5, \"minimum\": 0.0, \"maximum\": 2.0, \"qp_lower\": -1.0, \"qp_upper\": 0.1180670870212488}, {\"x1\": 1.0, \"x2\": 1.0, \"name\": \"behaviors\", \"id\": 5, \"minimum\": 0.0, \"maximum\": 1.0, \"qp_lower\": 0.00010045242572063329, \"qp_upper\": -1.0}], \"data-bb8d07f6df3d47a6a475317795287b23\": [{\"end\": 1, \"start\": 0}], \"data-d751713988987e9331980363e24189ce\": []}}, {\"mode\": \"vega-lite\"});\n",
       "</script>"
      ],
      "text/plain": [
       "alt.VConcatChart(...)"
      ]
     },
     "execution_count": 7,
     "metadata": {},
     "output_type": "execute_result"
    }
   ],
   "source": [
    "\n",
    "from ema_workbench.analysis import prim\n",
    "from ema_workbench.util import ema_logging\n",
    "import matplotlib.pyplot as plt\n",
    "\n",
    "x = df_rozenberg.iloc[:,0:7] \n",
    "y = df_rozenberg.iloc[:,10].values >=1\n",
    "\n",
    "prim_alg = prim.Prim(x, y, threshold=0.8, peel_alpha=0.1)\n",
    "box1 = prim_alg.find_box()\n",
    "\n",
    "box1.show_tradeoff()\n",
    "print(box1.resample(4))\n",
    "box1.inspect(4)\n",
    "box1.inspect(4, style='graph')\n",
    "\n",
    "plt.show()\n",
    "box1.inspect_tradeoff()"
   ]
  },
  {
   "cell_type": "markdown",
   "metadata": {},
   "source": [
    "# SSP5"
   ]
  },
  {
   "cell_type": "code",
   "execution_count": 8,
   "metadata": {},
   "outputs": [
    {
     "name": "stdout",
     "output_type": "stream",
     "text": [
      "                 reproduce coverage  reproduce density\n",
      "convergence                    90.0               90.0\n",
      "inequalities                   80.0               80.0\n",
      "capital markets                60.0               50.0\n",
      "behaviors                      10.0                0.0\n",
      "population                      0.0                0.0\n",
      "technologies                    0.0                0.0\n",
      "fossils                         0.0                0.0\n",
      "coverage    0.736842\n",
      "density     0.291667\n",
      "id                 3\n",
      "mass        0.167832\n",
      "mean        0.291667\n",
      "res_dim            2\n",
      "Name: 3, dtype: object\n",
      "\n",
      "             box 3                                    \n",
      "               min  max                      qp values\n",
      "convergence    2.0  2.0  [0.0005685305576793595, -1.0]\n",
      "inequalities   1.0  1.0     [0.0350590656942195, -1.0]\n",
      "\n"
     ]
    },
    {
     "data": {
      "image/png": "[encoded data removed]",
      "text/plain": [
       "<Figure size 432x288 with 2 Axes>"
      ]
     },
     "metadata": {
      "needs_background": "light"
     },
     "output_type": "display_data"
    },
    {
     "data": {
      "image/png": "[encoded data removed]",
      "text/plain": [
       "<Figure size 432x288 with 1 Axes>"
      ]
     },
     "metadata": {
      "needs_background": "light"
     },
     "output_type": "display_data"
    },
    {
     "data": {
      "text/html": [
       "\n",
       "<div id=\"altair-viz-26eb45c591ee42cf9aa72c342c7ae673\"></div>\n",
       "<script type=\"text/javascript\">\n",
       "  (function(spec, embedOpt){\n",
       "    let outputDiv = document.currentScript.previousElementSibling;\n",
       "    if (outputDiv.id !== \"altair-viz-26eb45c591ee42cf9aa72c342c7ae673\") {\n",
       "      outputDiv = document.getElementById(\"altair-viz-26eb45c591ee42cf9aa72c342c7ae673\");\n",
       "    }\n",
       "    const paths = {\n",
       "      \"vega\": \"https://cdn.jsdelivr.net/npm//vega@5?noext\",\n",
       "      \"vega-lib\": \"https://cdn.jsdelivr.net/npm//vega-lib?noext\",\n",
       "      \"vega-lite\": \"https://cdn.jsdelivr.net/npm//vega-lite@4.8.1?noext\",\n",
       "      \"vega-embed\": \"https://cdn.jsdelivr.net/npm//vega-embed@6?noext\",\n",
       "    };\n",
       "\n",
       "    function loadScript(lib) {\n",
       "      return new Promise(function(resolve, reject) {\n",
       "        var s = document.createElement('script');\n",
       "        s.src = paths[lib];\n",
       "        s.async = true;\n",
       "        s.onload = () => resolve(paths[lib]);\n",
       "        s.onerror = () => reject(`Error loading script: ${paths[lib]}`);\n",
       "        document.getElementsByTagName(\"head\")[0].appendChild(s);\n",
       "      });\n",
       "    }\n",
       "\n",
       "    function showError(err) {\n",
       "      outputDiv.innerHTML = `<div class=\"error\" style=\"color:red;\">${err}</div>`;\n",
       "      throw err;\n",
       "    }\n",
       "\n",
       "    function displayChart(vegaEmbed) {\n",
       "      vegaEmbed(outputDiv, spec, embedOpt)\n",
       "        .catch(err => showError(`Javascript Error: ${err.message}<br>This usually means there's a typo in your chart specification. See the javascript console for the full traceback.`));\n",
       "    }\n",
       "\n",
       "    if(typeof define === \"function\" && define.amd) {\n",
       "      requirejs.config({paths});\n",
       "      require([\"vega-embed\"], displayChart, err => showError(`Error loading script: ${err.message}`));\n",
       "    } else if (typeof vegaEmbed === \"function\") {\n",
       "      displayChart(vegaEmbed);\n",
       "    } else {\n",
       "      loadScript(\"vega\")\n",
       "        .then(() => loadScript(\"vega-lite\"))\n",
       "        .then(() => loadScript(\"vega-embed\"))\n",
       "        .catch(showError)\n",
       "        .then(() => displayChart(vegaEmbed));\n",
       "    }\n",
       "  })({\"config\": {\"view\": {\"continuousWidth\": 400, \"continuousHeight\": 300}}, \"vconcat\": [{\"data\": {\"name\": \"data-38134a8a13aea7cccfc8abfdaadf5ace\"}, \"mark\": {\"type\": \"circle\", \"size\": 75}, \"encoding\": {\"color\": {\"type\": \"ordinal\", \"field\": \"res_dim\", \"scale\": {\"range\": [\"#eff9b6\", \"#d0edb3\", \"#97d6b9\", \"#5dc0c0\", \"#31a5c2\", \"#1f80b8\", \"#2354a3\", \"#21318d\"]}}, \"opacity\": {\"condition\": {\"value\": 1, \"selection\": \"selector005\"}, \"value\": 0.4}, \"tooltip\": [{\"type\": \"ordinal\", \"field\": \"id\"}, {\"type\": \"quantitative\", \"field\": \"coverage\", \"format\": \".2\"}, {\"type\": \"quantitative\", \"field\": \"density\", \"format\": \".2\"}, {\"type\": \"ordinal\", \"field\": \"res_dim\"}], \"x\": {\"type\": \"quantitative\", \"field\": \"coverage\"}, \"y\": {\"type\": \"quantitative\", \"field\": \"density\"}}, \"height\": 400, \"selection\": {\"selector005\": {\"type\": \"single\", \"fields\": [\"id\"]}}, \"width\": 400}, {\"layer\": [{\"data\": {\"name\": \"data-44a72e9b9ad4006ead6ff1a36aafcf24\"}, \"mark\": \"rule\", \"encoding\": {\"x\": {\"type\": \"quantitative\", \"axis\": {\"grid\": false, \"labels\": false, \"title\": \"box limits\"}, \"field\": \"x_lower\", \"scale\": {\"domain\": [0, 1], \"padding\": 0.1}}, \"x2\": {\"field\": \"x_upper\"}, \"y\": {\"type\": \"nominal\", \"field\": \"name\", \"scale\": {\"padding\": 1.0}}}, \"transform\": [{\"calculate\": \"(datum.x1-datum.minimum)/(datum.maximum-datum.minimum)\", \"as\": \"x_lower\"}, {\"calculate\": \"(datum.x2-datum.minimum)/(datum.maximum-datum.minimum)\", \"as\": \"x_upper\"}, {\"filter\": {\"selection\": \"selector005\"}}], \"width\": 400}, {\"data\": {\"name\": \"data-44a72e9b9ad4006ead6ff1a36aafcf24\"}, \"mark\": {\"type\": \"text\", \"align\": \"left\", \"baseline\": \"top\", \"dy\": 5}, \"encoding\": {\"text\": {\"type\": \"ordinal\", \"field\": \"text\"}, \"x\": {\"type\": \"quantitative\", \"axis\": {\"grid\": false, \"labels\": false, \"title\": \"box limits\"}, \"field\": \"x_lower\", \"scale\": {\"domain\": [0, 1], \"padding\": 0.1}}, \"x2\": {\"field\": \"x_upper\"}, \"y\": {\"type\": \"nominal\", \"field\": \"name\", \"scale\": {\"padding\": 1.0}}}, \"transform\": [{\"calculate\": \"(datum.x1-datum.minimum)/(datum.maximum-datum.minimum)\", \"as\": \"x_lower\"}, {\"calculate\": \"(datum.x2-datum.minimum)/(datum.maximum-datum.minimum)\", \"as\": \"x_upper\"}, {\"filter\": {\"selection\": \"selector005\"}}, {\"calculate\": \"datum.qp_lower>0?format(datum.x1, \\\".2\\\")+\\\" (\\\"+format(datum.qp_lower, \\\".1~g\\\")+\\\")\\\" :format(datum.x1, \\\".2\\\")\", \"as\": \"text\"}], \"width\": 400}, {\"data\": {\"name\": \"data-44a72e9b9ad4006ead6ff1a36aafcf24\"}, \"mark\": {\"type\": \"text\", \"align\": \"right\", \"baseline\": \"top\", \"dy\": 5}, \"encoding\": {\"text\": {\"type\": \"ordinal\", \"field\": \"text\"}, \"x\": {\"type\": \"quantitative\", \"field\": \"x_upper\"}, \"x2\": {\"field\": \"x_upper\"}, \"y\": {\"type\": \"nominal\", \"field\": \"name\", \"scale\": {\"padding\": 1.0}}}, \"transform\": [{\"calculate\": \"(datum.x1-datum.minimum)/(datum.maximum-datum.minimum)\", \"as\": \"x_lower\"}, {\"calculate\": \"(datum.x2-datum.minimum)/(datum.maximum-datum.minimum)\", \"as\": \"x_upper\"}, {\"filter\": {\"selection\": \"selector005\"}}, {\"calculate\": \"datum.qp_upper>0?format(datum.x2, \\\".2\\\")+\\\" (\\\"+format(datum.qp_upper, \\\".1\\\")+\\\")\\\" :format(datum.x2, \\\".2\\\")\", \"as\": \"text\"}], \"width\": 400}, {\"data\": {\"name\": \"data-bb8d07f6df3d47a6a475317795287b23\"}, \"mark\": {\"type\": \"rect\", \"opacity\": 0.05}, \"encoding\": {\"x\": {\"type\": \"quantitative\", \"field\": \"start\"}, \"x2\": {\"field\": \"end\"}}}, {\"data\": {\"name\": \"data-d751713988987e9331980363e24189ce\"}, \"mark\": \"point\", \"encoding\": {\"x\": {\"type\": \"quantitative\", \"field\": \"x\"}, \"y\": {\"type\": \"nominal\", \"field\": \"name\"}}, \"transform\": [{\"filter\": {\"selection\": \"selector005\"}}], \"width\": 400}, {\"data\": {\"name\": \"data-d751713988987e9331980363e24189ce\"}, \"mark\": {\"type\": \"text\", \"align\": \"center\", \"baseline\": \"top\", \"dy\": 5}, \"encoding\": {\"text\": {\"type\": \"nominal\", \"field\": \"item\"}, \"x\": {\"type\": \"quantitative\", \"field\": \"x\"}, \"y\": {\"type\": \"nominal\", \"field\": \"name\"}}, \"transform\": [{\"filter\": {\"selection\": \"selector005\"}}], \"width\": 400}]}], \"$schema\": \"https://vega.github.io/schema/vega-lite/v4.8.1.json\", \"datasets\": {\"data-38134a8a13aea7cccfc8abfdaadf5ace\": [{\"coverage\": 1.0, \"density\": 0.06643356643356643, \"id\": 0, \"mass\": 1.0, \"mean\": 0.06643356643356643, \"res_dim\": 0}, {\"coverage\": 1.0, \"density\": 0.1, \"id\": 1, \"mass\": 0.6643356643356644, \"mean\": 0.1, \"res_dim\": 1}, {\"coverage\": 0.8947368421052632, \"density\": 0.17708333333333334, \"id\": 2, \"mass\": 0.3356643356643357, \"mean\": 0.17708333333333334, \"res_dim\": 1}, {\"coverage\": 0.7368421052631579, \"density\": 0.2916666666666667, \"id\": 3, \"mass\": 0.16783216783216784, \"mean\": 0.2916666666666667, \"res_dim\": 2}, {\"coverage\": 0.5789473684210527, \"density\": 0.4583333333333333, \"id\": 4, \"mass\": 0.08391608391608392, \"mean\": 0.4583333333333333, \"res_dim\": 3}], \"data-44a72e9b9ad4006ead6ff1a36aafcf24\": [{\"x1\": 1.0, \"x2\": 2.0, \"name\": \"convergence\", \"id\": 1, \"minimum\": 0.0, \"maximum\": 2.0, \"qp_lower\": 0.04972699546855817, \"qp_upper\": -1.0}, {\"x1\": 2.0, \"x2\": 2.0, \"name\": \"convergence\", \"id\": 2, \"minimum\": 0.0, \"maximum\": 2.0, \"qp_lower\": 0.0001875793837669401, \"qp_upper\": -1.0}, {\"x1\": 1.0, \"x2\": 1.0, \"name\": \"inequalities\", \"id\": 3, \"minimum\": 0.0, \"maximum\": 1.0, \"qp_lower\": 0.0350590656942195, \"qp_upper\": -1.0}, {\"x1\": 2.0, \"x2\": 2.0, \"name\": \"convergence\", \"id\": 3, \"minimum\": 0.0, \"maximum\": 2.0, \"qp_lower\": 0.0005685305576793595, \"qp_upper\": -1.0}, {\"x1\": 1.0, \"x2\": 1.0, \"name\": \"inequalities\", \"id\": 4, \"minimum\": 0.0, \"maximum\": 1.0, \"qp_lower\": 0.011131987844474327, \"qp_upper\": -1.0}, {\"x1\": 2.0, \"x2\": 2.0, \"name\": \"convergence\", \"id\": 4, \"minimum\": 0.0, \"maximum\": 2.0, \"qp_lower\": 0.001616972965573594, \"qp_upper\": -1.0}, {\"x1\": 0.0, \"x2\": 0.0, \"name\": \"behaviors\", \"id\": 4, \"minimum\": 0.0, \"maximum\": 1.0, \"qp_lower\": -1.0, \"qp_upper\": 0.06193796026800955}], \"data-bb8d07f6df3d47a6a475317795287b23\": [{\"end\": 1, \"start\": 0}], \"data-d751713988987e9331980363e24189ce\": []}}, {\"mode\": \"vega-lite\"});\n",
       "</script>"
      ],
      "text/plain": [
       "alt.VConcatChart(...)"
      ]
     },
     "execution_count": 8,
     "metadata": {},
     "output_type": "execute_result"
    }
   ],
   "source": [
    "from ema_workbench.analysis import prim\n",
    "from ema_workbench.util import ema_logging\n",
    "import matplotlib.pyplot as plt\n",
    "\n",
    "x = df_rozenberg.iloc[:,0:7] \n",
    "y = df_rozenberg.iloc[:,11].values>=1\n",
    "\n",
    "prim_alg = prim.Prim(x, y, threshold=0.45, peel_alpha=0.1)\n",
    "box1 = prim_alg.find_box()\n",
    "\n",
    "box1.show_tradeoff()\n",
    "print(box1.resample(3))\n",
    "box1.inspect(3)\n",
    "box1.inspect(3, style='graph')\n",
    "\n",
    "plt.show()\n",
    "box1.inspect_tradeoff()"
   ]
  },
  {
   "cell_type": "code",
   "execution_count": 9,
   "metadata": {},
   "outputs": [
    {
     "data": {
      "text/html": [
       "<div>\n",
       "<style scoped>\n",
       "    .dataframe tbody tr th:only-of-type {\n",
       "        vertical-align: middle;\n",
       "    }\n",
       "\n",
       "    .dataframe tbody tr th {\n",
       "        vertical-align: top;\n",
       "    }\n",
       "\n",
       "    .dataframe thead th {\n",
       "        text-align: right;\n",
       "    }\n",
       "</style>\n",
       "<table border=\"1\" class=\"dataframe\">\n",
       "  <thead>\n",
       "    <tr style=\"text-align: right;\">\n",
       "      <th></th>\n",
       "      <th>coverage</th>\n",
       "      <th>density</th>\n",
       "      <th>id</th>\n",
       "      <th>mass</th>\n",
       "      <th>mean</th>\n",
       "      <th>res_dim</th>\n",
       "    </tr>\n",
       "  </thead>\n",
       "  <tbody>\n",
       "    <tr>\n",
       "      <th>0</th>\n",
       "      <td>1.000000</td>\n",
       "      <td>0.066434</td>\n",
       "      <td>0</td>\n",
       "      <td>1.000000</td>\n",
       "      <td>0.066434</td>\n",
       "      <td>0</td>\n",
       "    </tr>\n",
       "    <tr>\n",
       "      <th>1</th>\n",
       "      <td>1.000000</td>\n",
       "      <td>0.100000</td>\n",
       "      <td>1</td>\n",
       "      <td>0.664336</td>\n",
       "      <td>0.100000</td>\n",
       "      <td>1</td>\n",
       "    </tr>\n",
       "    <tr>\n",
       "      <th>2</th>\n",
       "      <td>0.894737</td>\n",
       "      <td>0.177083</td>\n",
       "      <td>2</td>\n",
       "      <td>0.335664</td>\n",
       "      <td>0.177083</td>\n",
       "      <td>1</td>\n",
       "    </tr>\n",
       "    <tr>\n",
       "      <th>3</th>\n",
       "      <td>0.736842</td>\n",
       "      <td>0.291667</td>\n",
       "      <td>3</td>\n",
       "      <td>0.167832</td>\n",
       "      <td>0.291667</td>\n",
       "      <td>2</td>\n",
       "    </tr>\n",
       "    <tr>\n",
       "      <th>4</th>\n",
       "      <td>0.578947</td>\n",
       "      <td>0.458333</td>\n",
       "      <td>4</td>\n",
       "      <td>0.083916</td>\n",
       "      <td>0.458333</td>\n",
       "      <td>3</td>\n",
       "    </tr>\n",
       "  </tbody>\n",
       "</table>\n",
       "</div>"
      ],
      "text/plain": [
       "   coverage   density id      mass      mean res_dim\n",
       "0  1.000000  0.066434  0  1.000000  0.066434       0\n",
       "1  1.000000  0.100000  1  0.664336  0.100000       1\n",
       "2  0.894737  0.177083  2  0.335664  0.177083       1\n",
       "3  0.736842  0.291667  3  0.167832  0.291667       2\n",
       "4  0.578947  0.458333  4  0.083916  0.458333       3"
      ]
     },
     "execution_count": 9,
     "metadata": {},
     "output_type": "execute_result"
    }
   ],
   "source": [
    "box1.peeling_trajectory\n"
   ]
  },
  {
   "cell_type": "markdown",
   "metadata": {},
   "source": [
    "# Hamarat et al\n",
    "\n",
    "this is the most difficult dataset to analyze with prim. It has been generated using the ema_workbench and can be loaded with the `load_results` function. Experiments are of interest if the end state for `'fraction renewables'` is lower than the initial value.\n",
    "\n",
    "* PRIM struggles with finding a good explanation for this case, why?\n",
    "* [Dalal et al (2013)](https://www.sciencedirect.com/science/article/pii/S1364815213001345) suggest using PCA preprocessing. The ema_workbench supports this with the `pca_preprocess` function. See also examples/prim_PCA_preprocess.py. Does PCA preprocessing makes a difference for this case?\n"
   ]
  },
  {
   "cell_type": "code",
   "execution_count": 10,
   "metadata": {},
   "outputs": [
    {
     "name": "stdout",
     "output_type": "stream",
     "text": [
      "coverage    0.998852\n",
      "density     0.202986\n",
      "id                 3\n",
      "mass          0.8572\n",
      "mean        0.202986\n",
      "res_dim            1\n",
      "Name: 3, dtype: object\n",
      "\n",
      "         box 3                                         \n",
      "           min       max                      qp values\n",
      "r_33 -3.377941  1.035241  [-1.0, 6.072560071773518e-07]\n",
      "\n"
     ]
    },
    {
     "data": {
      "image/png": "[encoded data removed]",
      "text/plain": [
       "<Figure size 432x288 with 2 Axes>"
      ]
     },
     "metadata": {
      "needs_background": "light"
     },
     "output_type": "display_data"
    }
   ],
   "source": [
    "import pandas as pd\n",
    "import matplotlib.pyplot as plt\n",
    "from ema_workbench.analysis import prim\n",
    "from ema_workbench import load_results\n",
    "\n",
    "fn = r'./data/Hamarat et al 2013.gz'\n",
    "\n",
    "# specify x \n",
    "x, outcomes = load_results(fn)\n",
    "\n",
    "# PRIM struggles to analyze the data due to its format. \n",
    "# So in this assignment we manually remove categorical variables so that the database can be worked with\n",
    "# Then the PCA preprocessing is used to perform a rotation on the data so that PRIM can be used \n",
    "\n",
    "# Create new x dropping the two last columns \n",
    "x_new = x.iloc[:,-2]\n",
    "# Create new x by excluding the categorical type\n",
    "x_numeric = x.select_dtypes(exclude=pd.CategoricalDtype)\n",
    "\n",
    "# specify y with the ones of interest\n",
    "y = outcomes['fraction renewables'][:, -1] < outcomes['fraction renewables'][:, 0]\n",
    "\n",
    "#\n",
    "rotated_experiments, rotation_matrix = prim.pca_preprocess(x_numeric, y)\n",
    "\n",
    "# perform prim on modified results tuple\n",
    "prim_obj = prim.Prim(rotated_experiments, y, threshold=0.1)\n",
    "box = prim_obj.find_box()\n",
    "\n",
    "box.show_tradeoff()\n",
    "box.inspect(3)\n",
    "plt.show()\n"
   ]
  },
  {
   "cell_type": "code",
   "execution_count": null,
   "metadata": {},
   "outputs": [],
   "source": []
  }
 ],
 "metadata": {
  "anaconda-cloud": {},
  "kernelspec": {
   "display_name": "Python 3",
   "language": "python",
   "name": "python3"
  },
  "language_info": {
   "codemirror_mode": {
    "name": "ipython",
    "version": 3
   },
   "file_extension": ".py",
   "mimetype": "text/x-python",
   "name": "python",
   "nbconvert_exporter": "python",
   "pygments_lexer": "ipython3",
   "version": "3.7.3"
  },
  "latex_envs": {
   "LaTeX_envs_menu_present": true,
   "autocomplete": true,
   "bibliofile": "biblio.bib",
   "cite_by": "apalike",
   "current_citInitial": 1,
   "eqLabelWithNumbers": true,
   "eqNumInitial": 1,
   "hotkeys": {
    "equation": "Ctrl-E",
    "itemize": "Ctrl-I"
   },
   "labels_anchors": false,
   "latex_user_defs": false,
   "report_style_numbering": false,
   "user_envs_cfg": false
  }
 },
 "nbformat": 4,
 "nbformat_minor": 4
}
